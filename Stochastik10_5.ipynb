{
  "nbformat": 4,
  "nbformat_minor": 0,
  "metadata": {
    "colab": {
      "name": "Untitled0.ipynb",
      "provenance": [],
      "collapsed_sections": []
    },
    "kernelspec": {
      "name": "ir",
      "display_name": "R"
    }
  },
  "cells": [
    {
      "cell_type": "code",
      "metadata": {
        "colab": {
          "base_uri": "https://localhost:8080/"
        },
        "id": "ik3FbUsjd6BM",
        "outputId": "f67595d2-e37d-4053-f247-bab57485cc3b"
      },
      "source": [
        "# install.packages(\"readODS\")\r\n",
        "# install.packages(\"dplyr\")\r\n",
        "# install.packages(\"pastecs\")\r\n",
        "# install.packages(\"psych\")"
      ],
      "execution_count": 1,
      "outputs": [
        {
          "output_type": "stream",
          "text": [
            "Installing package into ‘/usr/local/lib/R/site-library’\n",
            "(as ‘lib’ is unspecified)\n",
            "\n",
            "Installing package into ‘/usr/local/lib/R/site-library’\n",
            "(as ‘lib’ is unspecified)\n",
            "\n",
            "Installing package into ‘/usr/local/lib/R/site-library’\n",
            "(as ‘lib’ is unspecified)\n",
            "\n",
            "Installing package into ‘/usr/local/lib/R/site-library’\n",
            "(as ‘lib’ is unspecified)\n",
            "\n",
            "also installing the dependencies ‘tmvnsim’, ‘mnormt’\n",
            "\n",
            "\n"
          ],
          "name": "stderr"
        }
      ]
    },
    {
      "cell_type": "code",
      "metadata": {
        "id": "8vXtERwseB1i"
      },
      "source": [
        "library(readODS)\r\n",
        "library(dplyr)\r\n",
        "library(pastecs)\r\n",
        "library(psych)"
      ],
      "execution_count": 3,
      "outputs": []
    },
    {
      "cell_type": "markdown",
      "metadata": {
        "id": "HH0XH83TeHLi"
      },
      "source": [
        "Read \"Umfrage 2015.ods\" as data frame using \"readODS\" library"
      ]
    },
    {
      "cell_type": "code",
      "metadata": {
        "colab": {
          "base_uri": "https://localhost:8080/",
          "height": 471
        },
        "id": "iKGHaT7-eD6h",
        "outputId": "fb71f482-1121-4116-89a2-4e1aa8379a1c"
      },
      "source": [
        "raw_data <- read_ods(path = \"Umfrage 2015.ods\",\r\n",
        "                     sheet = 1,\r\n",
        "                     col_names = TRUE,\r\n",
        "                     col_types = NULL,\r\n",
        "                     na = \"\",\r\n",
        "                     skip = 0,\r\n",
        "                     formula_as_formula = FALSE,\r\n",
        "                     range = NULL,\r\n",
        "                     row_names = FALSE,\r\n",
        "                     strings_as_factors = FALSE,\r\n",
        "                     verbose = FALSE)\r\n",
        "# View(raw_data)\r\n",
        "length(raw_data$Autofahren)\r\n",
        "range(raw_data$Autofahren)\r\n",
        "plot(raw_data$Autofahren)"
      ],
      "execution_count": 8,
      "outputs": [
        {
          "output_type": "display_data",
          "data": {
            "text/plain": [
              "[1] 129"
            ],
            "text/latex": "129",
            "text/markdown": "129",
            "text/html": [
              "129"
            ]
          },
          "metadata": {
            "tags": []
          }
        },
        {
          "output_type": "display_data",
          "data": {
            "text/plain": [
              "[1]   -1 3560"
            ],
            "text/latex": "\\begin{enumerate*}\n\\item -1\n\\item 3560\n\\end{enumerate*}\n",
            "text/markdown": "1. -1\n2. 3560\n\n\n",
            "text/html": [
              "<style>\n",
              ".list-inline {list-style: none; margin:0; padding: 0}\n",
              ".list-inline>li {display: inline-block}\n",
              ".list-inline>li:not(:last-child)::after {content: \"\\00b7\"; padding: 0 .5ex}\n",
              "</style>\n",
              "<ol class=list-inline><li>-1</li><li>3560</li></ol>\n"
            ]
          },
          "metadata": {
            "tags": []
          }
        },
        {
          "output_type": "display_data",
          "data": {
            "image/png": "[encoded data removed]",
            "text/plain": [
              "plot without title"
            ]
          },
          "metadata": {
            "tags": [],
            "image/png": {
              "width": 420,
              "height": 420
            }
          }
        }
      ]
    },
    {
      "cell_type": "markdown",
      "metadata": {
        "id": "Vmm-Xah_ev5J"
      },
      "source": [
        "Use column 'Autofahren' only"
      ]
    },
    {
      "cell_type": "code",
      "metadata": {
        "id": "iLrdmltOetdQ"
      },
      "source": [
        "raw_autofahrer <- raw_data$Autofahren\r\n",
        "# View(raw_autofahrer)"
      ],
      "execution_count": 10,
      "outputs": []
    },
    {
      "cell_type": "markdown",
      "metadata": {
        "id": "ianeWqVGe1sZ"
      },
      "source": [
        "Get number of rows with '-1' value\r\n",
        "(supposed to be 10)"
      ]
    },
    {
      "cell_type": "code",
      "metadata": {
        "colab": {
          "base_uri": "https://localhost:8080/",
          "height": 34
        },
        "id": "dKeO16gse36J",
        "outputId": "78cbfa9b-e4d4-4a8a-b73b-ae9c09f6dd0a"
      },
      "source": [
        "is_neg_1 <- raw_autofahrer == -1\r\n",
        "sum(is_neg_1)"
      ],
      "execution_count": 11,
      "outputs": [
        {
          "output_type": "display_data",
          "data": {
            "text/plain": [
              "[1] 10"
            ],
            "text/latex": "10",
            "text/markdown": "10",
            "text/html": [
              "10"
            ]
          },
          "metadata": {
            "tags": []
          }
        }
      ]
    },
    {
      "cell_type": "markdown",
      "metadata": {
        "id": "v0yg_wFBe__K"
      },
      "source": [
        "Clean raw data based on colum 'Autofahren', delete '-1' values"
      ]
    },
    {
      "cell_type": "code",
      "metadata": {
        "colab": {
          "base_uri": "https://localhost:8080/",
          "height": 454
        },
        "id": "EMof_CxqfAfJ",
        "outputId": "f7eac45d-3898-4b76-8166-76e1ea12873b"
      },
      "source": [
        "autofahrer <- raw_autofahrer[raw_autofahrer != \"-1\"]\r\n",
        "# View(autofahrer)\r\n",
        "# str(autofahrer)\r\n",
        "# plot(autofahrer)\r\n",
        "hist(autofahrer, \r\n",
        "     xlab = 'x',\r\n",
        "     ylab = 'y',\r\n",
        "     main = 'Histogram of Autofahrer')\r\n",
        "# length(autofahrer) --> should be 119\r\n",
        "# Range and correct elimination check\r\n",
        "range(autofahrer) # --> must not have '-1' as min value"
      ],
      "execution_count": 12,
      "outputs": [
        {
          "output_type": "display_data",
          "data": {
            "text/plain": [
              "[1]    0 3560"
            ],
            "text/latex": "\\begin{enumerate*}\n\\item 0\n\\item 3560\n\\end{enumerate*}\n",
            "text/markdown": "1. 0\n2. 3560\n\n\n",
            "text/html": [
              "<style>\n",
              ".list-inline {list-style: none; margin:0; padding: 0}\n",
              ".list-inline>li {display: inline-block}\n",
              ".list-inline>li:not(:last-child)::after {content: \"\\00b7\"; padding: 0 .5ex}\n",
              "</style>\n",
              "<ol class=list-inline><li>0</li><li>3560</li></ol>\n"
            ]
          },
          "metadata": {
            "tags": []
          }
        },
        {
          "output_type": "display_data",
          "data": {
            "image/png": "[encoded data removed]",
            "text/plain": [
              "Plot with title “Histogram of Autofahrer”"
            ]
          },
          "metadata": {
            "tags": [],
            "image/png": {
              "width": 420,
              "height": 420
            }
          }
        }
      ]
    },
    {
      "cell_type": "markdown",
      "metadata": {
        "id": "IdqP8LWrfIKr"
      },
      "source": [
        "mean, median, 25th and 75th quantiles, min, max"
      ]
    },
    {
      "cell_type": "code",
      "metadata": {
        "colab": {
          "base_uri": "https://localhost:8080/",
          "height": 52
        },
        "id": "cJ7WkFpffIuT",
        "outputId": "3fb83850-4720-4507-c901-0f1a0a3f3572"
      },
      "source": [
        "summary(autofahrer)"
      ],
      "execution_count": 13,
      "outputs": [
        {
          "output_type": "display_data",
          "data": {
            "text/plain": [
              "   Min. 1st Qu.  Median    Mean 3rd Qu.    Max. \n",
              "   0.00    1.00    4.00   97.03   20.00 3560.00 "
            ]
          },
          "metadata": {
            "tags": []
          }
        }
      ]
    },
    {
      "cell_type": "markdown",
      "metadata": {
        "id": "kMfvrty5fVZ6"
      },
      "source": [
        "Teil-Mediane\r\n",
        "1. Unterer Median\r\n",
        "2. Oberer Median\r\n",
        "3. Durchschnittlicher Median"
      ]
    },
    {
      "cell_type": "code",
      "metadata": {
        "colab": {
          "base_uri": "https://localhost:8080/",
          "height": 68
        },
        "id": "6DFHQ-cxfUKE",
        "outputId": "26ed6c36-3ae6-471c-f282-201dc09336f4"
      },
      "source": [
        "# Teil-Mediane\r\n",
        "# 1. Sort data frame\r\n",
        "sorted_autofahrer <- autofahrer[order(autofahrer)]\r\n",
        "# View(sorted_autofahrer)\r\n",
        "# 2. unterer Median: Ganzzahlige Division nach unten:\r\n",
        "lowermedian <- sorted_autofahrer[length(sorted_autofahrer)%/%2]\r\n",
        "lowermedian\r\n",
        "# 3. Oberer Median: Ganzzahlige Division nach oben: length(sorted_autofahrer)%/%2 + 1\r\n",
        "uppermedian <- sorted_autofahrer[length(sorted_autofahrer)%/%2 + 1]\r\n",
        "uppermedian\r\n",
        "# Median\r\n",
        "median(autofahrer)"
      ],
      "execution_count": 14,
      "outputs": [
        {
          "output_type": "display_data",
          "data": {
            "text/plain": [
              "[1] 4"
            ],
            "text/latex": "4",
            "text/markdown": "4",
            "text/html": [
              "4"
            ]
          },
          "metadata": {
            "tags": []
          }
        },
        {
          "output_type": "display_data",
          "data": {
            "text/plain": [
              "[1] 4"
            ],
            "text/latex": "4",
            "text/markdown": "4",
            "text/html": [
              "4"
            ]
          },
          "metadata": {
            "tags": []
          }
        },
        {
          "output_type": "display_data",
          "data": {
            "text/plain": [
              "[1] 4"
            ],
            "text/latex": "4",
            "text/markdown": "4",
            "text/html": [
              "4"
            ]
          },
          "metadata": {
            "tags": []
          }
        }
      ]
    },
    {
      "cell_type": "markdown",
      "metadata": {
        "id": "nYLAkP6lffPy"
      },
      "source": [
        "Modus:\r\n",
        "1. Automatisch\r\n",
        "2. Manuell zur Prüfung"
      ]
    },
    {
      "cell_type": "code",
      "metadata": {
        "colab": {
          "base_uri": "https://localhost:8080/",
          "height": 158
        },
        "id": "dLmXG9QQff6S",
        "outputId": "b0c96809-8569-4fec-8324-63475baceb4f"
      },
      "source": [
        "# Ansatz 1\r\n",
        "names(table(autofahrer))[table(autofahrer)==max(table(autofahrer))]\r\n",
        "# Ansatz 2\r\n",
        "table(autofahrer)"
      ],
      "execution_count": 15,
      "outputs": [
        {
          "output_type": "display_data",
          "data": {
            "text/plain": [
              "[1] \"1\""
            ],
            "text/latex": "'1'",
            "text/markdown": "'1'",
            "text/html": [
              "'1'"
            ]
          },
          "metadata": {
            "tags": []
          }
        },
        {
          "output_type": "display_data",
          "data": {
            "text/plain": [
              "autofahrer\n",
              "   0    1    2    3    4    5    6    7    8    9   10   11   12   13   14   15 \n",
              "  22   24    4    5    5    6    3    4    2    2    2    2    3    1    1    1 \n",
              "  17   20   21   25   28   30   35   40   50   60   84   90   95  180  195  300 \n",
              "   1    3    2    3    1    2    1    2    1    1    1    1    1    2    1    1 \n",
              " 600  700  780  800  978 1100 3560 \n",
              "   1    1    1    1    1    2    1 "
            ]
          },
          "metadata": {
            "tags": []
          }
        }
      ]
    },
    {
      "cell_type": "markdown",
      "metadata": {
        "id": "D4kOriPefmfK"
      },
      "source": [
        "Mean"
      ]
    },
    {
      "cell_type": "code",
      "metadata": {
        "colab": {
          "base_uri": "https://localhost:8080/",
          "height": 34
        },
        "id": "dMNiZnBIfoVy",
        "outputId": "05ede6d8-4ebe-481d-9a5b-1677aa441b8c"
      },
      "source": [
        "mean(autofahrer)"
      ],
      "execution_count": 17,
      "outputs": [
        {
          "output_type": "display_data",
          "data": {
            "text/plain": [
              "[1] 97.02521"
            ],
            "text/latex": "97.0252100840336",
            "text/markdown": "97.0252100840336",
            "text/html": [
              "97.0252100840336"
            ]
          },
          "metadata": {
            "tags": []
          }
        }
      ]
    },
    {
      "cell_type": "markdown",
      "metadata": {
        "id": "TRkhI722fpwK"
      },
      "source": [
        "Tukey's five number summary (minimum, lower-hinge, median, upper-hinge, maximum)"
      ]
    },
    {
      "cell_type": "code",
      "metadata": {
        "colab": {
          "base_uri": "https://localhost:8080/",
          "height": 34
        },
        "id": "JQ3Jx2uffs3j",
        "outputId": "b6bf28bd-594c-4463-bb0c-da8eb2a48edc"
      },
      "source": [
        "fivenum(autofahrer)"
      ],
      "execution_count": 16,
      "outputs": [
        {
          "output_type": "display_data",
          "data": {
            "text/plain": [
              "[1]    0    1    4   20 3560"
            ],
            "text/latex": "\\begin{enumerate*}\n\\item 0\n\\item 1\n\\item 4\n\\item 20\n\\item 3560\n\\end{enumerate*}\n",
            "text/markdown": "1. 0\n2. 1\n3. 4\n4. 20\n5. 3560\n\n\n",
            "text/html": [
              "<style>\n",
              ".list-inline {list-style: none; margin:0; padding: 0}\n",
              ".list-inline>li {display: inline-block}\n",
              ".list-inline>li:not(:last-child)::after {content: \"\\00b7\"; padding: 0 .5ex}\n",
              "</style>\n",
              "<ol class=list-inline><li>0</li><li>1</li><li>4</li><li>20</li><li>3560</li></ol>\n"
            ]
          },
          "metadata": {
            "tags": []
          }
        }
      ]
    },
    {
      "cell_type": "markdown",
      "metadata": {
        "id": "acZDilPDfwqi"
      },
      "source": [
        "Varianz"
      ]
    },
    {
      "cell_type": "code",
      "metadata": {
        "colab": {
          "base_uri": "https://localhost:8080/",
          "height": 34
        },
        "id": "AUEl9kuJfyLS",
        "outputId": "d4bafd89-6e8a-4a90-9adb-1f9dbd588952"
      },
      "source": [
        "var(autofahrer)"
      ],
      "execution_count": 18,
      "outputs": [
        {
          "output_type": "display_data",
          "data": {
            "text/plain": [
              "[1] 146313.3"
            ],
            "text/latex": "146313.26207093",
            "text/markdown": "146313.26207093",
            "text/html": [
              "146313.26207093"
            ]
          },
          "metadata": {
            "tags": []
          }
        }
      ]
    },
    {
      "cell_type": "markdown",
      "metadata": {
        "id": "kX1hCE5QfzyE"
      },
      "source": [
        "Standard Devation"
      ]
    },
    {
      "cell_type": "code",
      "metadata": {
        "colab": {
          "base_uri": "https://localhost:8080/",
          "height": 34
        },
        "id": "LRp5pR6Uf0_T",
        "outputId": "49895a51-82be-4ddf-f3e5-13c5c5a67e0c"
      },
      "source": [
        "sd(autofahrer)"
      ],
      "execution_count": 19,
      "outputs": [
        {
          "output_type": "display_data",
          "data": {
            "text/plain": [
              "[1] 382.5092"
            ],
            "text/latex": "382.509165995967",
            "text/markdown": "382.509165995967",
            "text/html": [
              "382.509165995967"
            ]
          },
          "metadata": {
            "tags": []
          }
        }
      ]
    },
    {
      "cell_type": "markdown",
      "metadata": {
        "id": "biBqOPkff3HD"
      },
      "source": [
        "Quantile"
      ]
    },
    {
      "cell_type": "code",
      "metadata": {
        "colab": {
          "base_uri": "https://localhost:8080/",
          "height": 34
        },
        "id": "e_s7LT-zf5CS",
        "outputId": "68fe3cd1-a5ee-4d11-e6e0-178d1d53bfd0"
      },
      "source": [
        "quantile(autofahrer)"
      ],
      "execution_count": 20,
      "outputs": [
        {
          "output_type": "display_data",
          "data": {
            "text/plain": [
              "  0%  25%  50%  75% 100% \n",
              "   0    1    4   20 3560 "
            ],
            "text/latex": "\\begin{description*}\n\\item[0\\textbackslash{}\\%] 0\n\\item[25\\textbackslash{}\\%] 1\n\\item[50\\textbackslash{}\\%] 4\n\\item[75\\textbackslash{}\\%] 20\n\\item[100\\textbackslash{}\\%] 3560\n\\end{description*}\n",
            "text/markdown": "0%\n:   025%\n:   150%\n:   475%\n:   20100%\n:   3560\n\n",
            "text/html": [
              "<style>\n",
              ".dl-inline {width: auto; margin:0; padding: 0}\n",
              ".dl-inline>dt, .dl-inline>dd {float: none; width: auto; display: inline-block}\n",
              ".dl-inline>dt::after {content: \":\\0020\"; padding-right: .5ex}\n",
              ".dl-inline>dt:not(:first-of-type) {padding-left: .5ex}\n",
              "</style><dl class=dl-inline><dt>0%</dt><dd>0</dd><dt>25%</dt><dd>1</dd><dt>50%</dt><dd>4</dd><dt>75%</dt><dd>20</dd><dt>100%</dt><dd>3560</dd></dl>\n"
            ]
          },
          "metadata": {
            "tags": []
          }
        }
      ]
    },
    {
      "cell_type": "markdown",
      "metadata": {
        "id": "praFOOsgf7Br"
      },
      "source": [
        "(Inter-) Quartilabstand"
      ]
    },
    {
      "cell_type": "code",
      "metadata": {
        "colab": {
          "base_uri": "https://localhost:8080/",
          "height": 34
        },
        "id": "VwNPuiIkf9C0",
        "outputId": "34ecc516-2fd2-4116-b317-310f6422fb52"
      },
      "source": [
        "IQR(autofahrer)"
      ],
      "execution_count": 21,
      "outputs": [
        {
          "output_type": "display_data",
          "data": {
            "text/plain": [
              "[1] 19"
            ],
            "text/latex": "19",
            "text/markdown": "19",
            "text/html": [
              "19"
            ]
          },
          "metadata": {
            "tags": []
          }
        }
      ]
    },
    {
      "cell_type": "markdown",
      "metadata": {
        "id": "Q2uPYo13gKZj"
      },
      "source": [
        "Warum ist die Standardabweichung so viel größer als der Quartilsabstand?\r\n",
        "\r\n",
        "\r\n",
        "\r\n",
        "*   Standardabweichung: Die Standardabweichung besagt, wie viel der gesamte Datensatz vom Mittelwert (mean) abweicht. Daher ist die SD von Extremwerten (Outliers) stark abhängig. SD ist insbesondere bei Normal-/Gaussverteilungen sehr gut geeignet.\r\n",
        "*   (Inter-)Quartilabstand: Der IQR besagt, wie viel Varianz in 50% des geordneten Datensatzes enthalten ist. Es wird also nicht der gesamte Datensatz in die Varianzberechnung einbezogen. Somit sind Extremwerte nicht in demselben Maß enthalten wie in der SD. Somit ist der IQR bei schiefen Verteilungen besser geeigned. \r\n",
        "\r\n",
        "Die SD ist also um ein Vielfaches größer als IQR, weil wir im vorliegenden Datensatz Extremwerte haben, die im Fall der SD enthalten sind, aber in IQR ausgelassen werden. \r\n",
        "Analog kann man SD und IQR zu arithmetischem Mittel (mean) und Median vergleichen. Median und IQR sind robust gegen Extremwerte, SD und mean enthalten diese dagegen. \r\n",
        "\r\n"
      ]
    }
  ]
}