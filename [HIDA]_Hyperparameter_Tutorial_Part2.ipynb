{
  "nbformat": 4,
  "nbformat_minor": 0,
  "metadata": {
    "kernelspec": {
      "display_name": "Python 3",
      "language": "python",
      "name": "python3"
    },
    "language_info": {
      "codemirror_mode": {
        "name": "ipython",
        "version": 3
      },
      "file_extension": ".py",
      "mimetype": "text/x-python",
      "name": "python",
      "nbconvert_exporter": "python",
      "pygments_lexer": "ipython3",
      "version": "3.6.8"
    },
    "colab": {
      "name": "[HIDA] Hyperparameter_Tutorial_Part2.ipynb",
      "provenance": [],
      "include_colab_link": true
    }
  },
  "cells": [
    {
      "cell_type": "markdown",
      "metadata": {
        "id": "view-in-github",
        "colab_type": "text"
      },
      "source": [
        "<a href=\"https://colab.research.google.com/github/Wandergarten/CollectoR/blob/main/%5BHIDA%5D_Hyperparameter_Tutorial_Part2.ipynb\" target=\"_parent\"><img src=\"https://colab.research.google.com/assets/colab-badge.svg\" alt=\"Open In Colab\"/></a>"
      ]
    },
    {
      "cell_type": "markdown",
      "metadata": {
        "id": "OrU6RndW0AOu"
      },
      "source": [
        "# HDS-LEE Course on Hyperparameter Optimization - Part 2\n",
        "\n",
        "<img src='https://raw.githubusercontent.com/DLR-SC/Hyperparameter_tutorial/master/img/hds_lee_title.png' width=500px>\n",
        "\n",
        "This notebook summarizes several examples from the Talos GitHub repository. The original examples can be found\n",
        "on https://github.com/autonomio/talos/tree/master/examples\n",
        "\n",
        "Note: The output of this notebook is not reproducible. This means that **the final\n",
        "output changes with every usage of the code**. There are two main reasons for this\n",
        "stochastic behavior:\n",
        "* the traing set is quite small (400 samples) to reduce computing time (this is a tutorial so that\n",
        "there is a limited amount of time)\n",
        "* we use a 'random hyperparameter search strategy' and only cover a small percentage\n",
        "of parameter configurations (about 1%) to reduce computing time so that the output, of course, is\n",
        "not deterministic.\n",
        "\n",
        "In practice, this stochastic behavior should be strongly reduced since the number\n",
        "of training samples is usually much larger and the 'random hyperparameter search strategy'\n",
        "usually covers a larger percentage of hyperparameter configurations."
      ]
    },
    {
      "cell_type": "code",
      "metadata": {
        "id": "7yasAGt_1-o_",
        "colab": {
          "base_uri": "https://localhost:8080/"
        },
        "outputId": "e08bf280-efd3-44cf-d94e-84863472f361"
      },
      "source": [
        "pip install talos"
      ],
      "execution_count": null,
      "outputs": [
        {
          "output_type": "stream",
          "text": [
            "Requirement already satisfied: talos in /usr/local/lib/python3.6/dist-packages (1.0)\n",
            "Requirement already satisfied: chances in /usr/local/lib/python3.6/dist-packages (from talos) (0.1.9)\n",
            "Requirement already satisfied: sklearn in /usr/local/lib/python3.6/dist-packages (from talos) (0.0)\n",
            "Requirement already satisfied: tensorflow>=2.0.0 in /usr/local/lib/python3.6/dist-packages (from talos) (2.3.0)\n",
            "Requirement already satisfied: tqdm in /usr/local/lib/python3.6/dist-packages (from talos) (4.41.1)\n",
            "Requirement already satisfied: wrangle in /usr/local/lib/python3.6/dist-packages (from talos) (0.6.7)\n",
            "Requirement already satisfied: kerasplotlib in /usr/local/lib/python3.6/dist-packages (from talos) (0.1.6)\n",
            "Requirement already satisfied: requests in /usr/local/lib/python3.6/dist-packages (from talos) (2.23.0)\n",
            "Requirement already satisfied: astetik in /usr/local/lib/python3.6/dist-packages (from talos) (1.9.9)\n",
            "Requirement already satisfied: numpy in /usr/local/lib/python3.6/dist-packages (from talos) (1.18.5)\n",
            "Requirement already satisfied: statsmodels>=0.11.0 in /usr/local/lib/python3.6/dist-packages (from talos) (0.12.1)\n",
            "Requirement already satisfied: pandas in /usr/local/lib/python3.6/dist-packages (from talos) (1.1.4)\n",
            "Requirement already satisfied: scipy in /usr/local/lib/python3.6/dist-packages (from chances->talos) (1.4.1)\n",
            "Requirement already satisfied: scikit-learn in /usr/local/lib/python3.6/dist-packages (from sklearn->talos) (0.22.2.post1)\n",
            "Requirement already satisfied: wheel>=0.26 in /usr/local/lib/python3.6/dist-packages (from tensorflow>=2.0.0->talos) (0.35.1)\n",
            "Requirement already satisfied: keras-preprocessing<1.2,>=1.1.1 in /usr/local/lib/python3.6/dist-packages (from tensorflow>=2.0.0->talos) (1.1.2)\n",
            "Requirement already satisfied: grpcio>=1.8.6 in /usr/local/lib/python3.6/dist-packages (from tensorflow>=2.0.0->talos) (1.33.2)\n",
            "Requirement already satisfied: protobuf>=3.9.2 in /usr/local/lib/python3.6/dist-packages (from tensorflow>=2.0.0->talos) (3.12.4)\n",
            "Requirement already satisfied: termcolor>=1.1.0 in /usr/local/lib/python3.6/dist-packages (from tensorflow>=2.0.0->talos) (1.1.0)\n",
            "Requirement already satisfied: six>=1.12.0 in /usr/local/lib/python3.6/dist-packages (from tensorflow>=2.0.0->talos) (1.15.0)\n",
            "Requirement already satisfied: wrapt>=1.11.1 in /usr/local/lib/python3.6/dist-packages (from tensorflow>=2.0.0->talos) (1.12.1)\n",
            "Requirement already satisfied: google-pasta>=0.1.8 in /usr/local/lib/python3.6/dist-packages (from tensorflow>=2.0.0->talos) (0.2.0)\n",
            "Requirement already satisfied: absl-py>=0.7.0 in /usr/local/lib/python3.6/dist-packages (from tensorflow>=2.0.0->talos) (0.10.0)\n",
            "Requirement already satisfied: h5py<2.11.0,>=2.10.0 in /usr/local/lib/python3.6/dist-packages (from tensorflow>=2.0.0->talos) (2.10.0)\n",
            "Requirement already satisfied: astunparse==1.6.3 in /usr/local/lib/python3.6/dist-packages (from tensorflow>=2.0.0->talos) (1.6.3)\n",
            "Requirement already satisfied: gast==0.3.3 in /usr/local/lib/python3.6/dist-packages (from tensorflow>=2.0.0->talos) (0.3.3)\n",
            "Requirement already satisfied: tensorflow-estimator<2.4.0,>=2.3.0 in /usr/local/lib/python3.6/dist-packages (from tensorflow>=2.0.0->talos) (2.3.0)\n",
            "Requirement already satisfied: opt-einsum>=2.3.2 in /usr/local/lib/python3.6/dist-packages (from tensorflow>=2.0.0->talos) (3.3.0)\n",
            "Requirement already satisfied: tensorboard<3,>=2.3.0 in /usr/local/lib/python3.6/dist-packages (from tensorflow>=2.0.0->talos) (2.3.0)\n",
            "Requirement already satisfied: keras in /usr/local/lib/python3.6/dist-packages (from wrangle->talos) (2.4.3)\n",
            "Requirement already satisfied: ipython in /usr/local/lib/python3.6/dist-packages (from kerasplotlib->talos) (5.5.0)\n",
            "Requirement already satisfied: chardet<4,>=3.0.2 in /usr/local/lib/python3.6/dist-packages (from requests->talos) (3.0.4)\n",
            "Requirement already satisfied: idna<3,>=2.5 in /usr/local/lib/python3.6/dist-packages (from requests->talos) (2.10)\n",
            "Requirement already satisfied: urllib3!=1.25.0,!=1.25.1,<1.26,>=1.21.1 in /usr/local/lib/python3.6/dist-packages (from requests->talos) (1.24.3)\n",
            "Requirement already satisfied: certifi>=2017.4.17 in /usr/local/lib/python3.6/dist-packages (from requests->talos) (2020.6.20)\n",
            "Requirement already satisfied: geonamescache in /usr/local/lib/python3.6/dist-packages (from astetik->talos) (1.2.0)\n",
            "Requirement already satisfied: patsy>=0.5 in /usr/local/lib/python3.6/dist-packages (from statsmodels>=0.11.0->talos) (0.5.1)\n",
            "Requirement already satisfied: python-dateutil>=2.7.3 in /usr/local/lib/python3.6/dist-packages (from pandas->talos) (2.8.1)\n",
            "Requirement already satisfied: pytz>=2017.2 in /usr/local/lib/python3.6/dist-packages (from pandas->talos) (2018.9)\n",
            "Requirement already satisfied: joblib>=0.11 in /usr/local/lib/python3.6/dist-packages (from scikit-learn->sklearn->talos) (0.17.0)\n",
            "Requirement already satisfied: setuptools in /usr/local/lib/python3.6/dist-packages (from protobuf>=3.9.2->tensorflow>=2.0.0->talos) (50.3.2)\n",
            "Requirement already satisfied: werkzeug>=0.11.15 in /usr/local/lib/python3.6/dist-packages (from tensorboard<3,>=2.3.0->tensorflow>=2.0.0->talos) (1.0.1)\n",
            "Requirement already satisfied: tensorboard-plugin-wit>=1.6.0 in /usr/local/lib/python3.6/dist-packages (from tensorboard<3,>=2.3.0->tensorflow>=2.0.0->talos) (1.7.0)\n",
            "Requirement already satisfied: google-auth-oauthlib<0.5,>=0.4.1 in /usr/local/lib/python3.6/dist-packages (from tensorboard<3,>=2.3.0->tensorflow>=2.0.0->talos) (0.4.2)\n",
            "Requirement already satisfied: google-auth<2,>=1.6.3 in /usr/local/lib/python3.6/dist-packages (from tensorboard<3,>=2.3.0->tensorflow>=2.0.0->talos) (1.17.2)\n",
            "Requirement already satisfied: markdown>=2.6.8 in /usr/local/lib/python3.6/dist-packages (from tensorboard<3,>=2.3.0->tensorflow>=2.0.0->talos) (3.3.3)\n",
            "Requirement already satisfied: pyyaml in /usr/local/lib/python3.6/dist-packages (from keras->wrangle->talos) (3.13)\n",
            "Requirement already satisfied: traitlets>=4.2 in /usr/local/lib/python3.6/dist-packages (from ipython->kerasplotlib->talos) (4.3.3)\n",
            "Requirement already satisfied: pexpect; sys_platform != \"win32\" in /usr/local/lib/python3.6/dist-packages (from ipython->kerasplotlib->talos) (4.8.0)\n",
            "Requirement already satisfied: pygments in /usr/local/lib/python3.6/dist-packages (from ipython->kerasplotlib->talos) (2.6.1)\n",
            "Requirement already satisfied: simplegeneric>0.8 in /usr/local/lib/python3.6/dist-packages (from ipython->kerasplotlib->talos) (0.8.1)\n",
            "Requirement already satisfied: prompt-toolkit<2.0.0,>=1.0.4 in /usr/local/lib/python3.6/dist-packages (from ipython->kerasplotlib->talos) (1.0.18)\n",
            "Requirement already satisfied: decorator in /usr/local/lib/python3.6/dist-packages (from ipython->kerasplotlib->talos) (4.4.2)\n",
            "Requirement already satisfied: pickleshare in /usr/local/lib/python3.6/dist-packages (from ipython->kerasplotlib->talos) (0.7.5)\n",
            "Requirement already satisfied: requests-oauthlib>=0.7.0 in /usr/local/lib/python3.6/dist-packages (from google-auth-oauthlib<0.5,>=0.4.1->tensorboard<3,>=2.3.0->tensorflow>=2.0.0->talos) (1.3.0)\n",
            "Requirement already satisfied: cachetools<5.0,>=2.0.0 in /usr/local/lib/python3.6/dist-packages (from google-auth<2,>=1.6.3->tensorboard<3,>=2.3.0->tensorflow>=2.0.0->talos) (4.1.1)\n",
            "Requirement already satisfied: pyasn1-modules>=0.2.1 in /usr/local/lib/python3.6/dist-packages (from google-auth<2,>=1.6.3->tensorboard<3,>=2.3.0->tensorflow>=2.0.0->talos) (0.2.8)\n",
            "Requirement already satisfied: rsa<5,>=3.1.4; python_version >= \"3\" in /usr/local/lib/python3.6/dist-packages (from google-auth<2,>=1.6.3->tensorboard<3,>=2.3.0->tensorflow>=2.0.0->talos) (4.6)\n",
            "Requirement already satisfied: importlib-metadata; python_version < \"3.8\" in /usr/local/lib/python3.6/dist-packages (from markdown>=2.6.8->tensorboard<3,>=2.3.0->tensorflow>=2.0.0->talos) (2.0.0)\n",
            "Requirement already satisfied: ipython-genutils in /usr/local/lib/python3.6/dist-packages (from traitlets>=4.2->ipython->kerasplotlib->talos) (0.2.0)\n",
            "Requirement already satisfied: ptyprocess>=0.5 in /usr/local/lib/python3.6/dist-packages (from pexpect; sys_platform != \"win32\"->ipython->kerasplotlib->talos) (0.6.0)\n",
            "Requirement already satisfied: wcwidth in /usr/local/lib/python3.6/dist-packages (from prompt-toolkit<2.0.0,>=1.0.4->ipython->kerasplotlib->talos) (0.2.5)\n",
            "Requirement already satisfied: oauthlib>=3.0.0 in /usr/local/lib/python3.6/dist-packages (from requests-oauthlib>=0.7.0->google-auth-oauthlib<0.5,>=0.4.1->tensorboard<3,>=2.3.0->tensorflow>=2.0.0->talos) (3.1.0)\n",
            "Requirement already satisfied: pyasn1<0.5.0,>=0.4.6 in /usr/local/lib/python3.6/dist-packages (from pyasn1-modules>=0.2.1->google-auth<2,>=1.6.3->tensorboard<3,>=2.3.0->tensorflow>=2.0.0->talos) (0.4.8)\n",
            "Requirement already satisfied: zipp>=0.5 in /usr/local/lib/python3.6/dist-packages (from importlib-metadata; python_version < \"3.8\"->markdown>=2.6.8->tensorboard<3,>=2.3.0->tensorflow>=2.0.0->talos) (3.4.0)\n"
          ],
          "name": "stdout"
        }
      ]
    },
    {
      "cell_type": "code",
      "metadata": {
        "id": "7qSH0yg60AO0"
      },
      "source": [
        "%matplotlib inline\n",
        "# required Talos __version__ = \"0.6.6\"\n",
        "import talos\n",
        "import numpy as np"
      ],
      "execution_count": null,
      "outputs": []
    },
    {
      "cell_type": "markdown",
      "metadata": {
        "pycharm": {
          "name": "#%% md\n"
        },
        "id": "ysVtzyZ70AO_"
      },
      "source": [
        "## Overview\n",
        "\n",
        "The aim of the 2nd tutorial is the following:\n",
        "\n",
        "* Introduction of Talos\n",
        "* Use Talos for machine-assisted hyperparameter optimization of the Boston house pricing problem (1st Jupyter notebook).\n",
        "Also note that there is a large variety of hyperparameter tuning libraries and Talos is only\n",
        "one viable option (another recommend alternative is Keras Tuner)\n",
        "* Give general guidelines on hyperparameter optimization\n",
        "\n",
        "### Table of Contents\n",
        "\n",
        "##### 1. <a href=#one>Introduction of Talos</a>\n",
        "##### 2. <a href=#two>Use Talos for hyperparameter optimization </a>\n",
        "##### 3. <a href=#three>Guidelines on hyperparameter optimization</a>"
      ]
    },
    {
      "cell_type": "markdown",
      "metadata": {
        "id": "WqIJLUF00APA"
      },
      "source": [
        "## 1. Introduction of Talos <a name=\"one\"></a> "
      ]
    },
    {
      "cell_type": "markdown",
      "metadata": {
        "pycharm": {
          "is_executing": false,
          "name": "#%% md\n"
        },
        "id": "iH9OfHom0APC"
      },
      "source": [
        "### Restore the original Keras code \n",
        "\n",
        "We start with the code that we have already used in the first notebook"
      ]
    },
    {
      "cell_type": "code",
      "metadata": {
        "pycharm": {
          "name": "#%%\n"
        },
        "id": "VqAiMUVJ0APD"
      },
      "source": [
        "from keras.datasets import boston_housing\n",
        "\n",
        "# load the data\n",
        "(train_data, train_targets), (test_data, test_targets) =  boston_housing.load_data()\n",
        "\n",
        "# data normalization\n",
        "mean = train_data.mean(axis=0)\n",
        "train_data -= mean\n",
        "std = train_data.std(axis=0)\n",
        "train_data /= std\n",
        "\n",
        "test_data -= mean\n",
        "test_data /= std"
      ],
      "execution_count": null,
      "outputs": []
    },
    {
      "cell_type": "markdown",
      "metadata": {
        "pycharm": {
          "name": "#%% md\n"
        },
        "id": "VklqI4T20API"
      },
      "source": [
        "### Model preparation\n",
        "\n",
        "Talos works with any Keras model, without changing the structure of the model in any way.  \n",
        "The only difference in the Keras model is that a parameter is not set explicitly as before, e.g.\n",
        "\n",
        "<pre><code> model.add(layers.Dense(32, activation='relu'))    </code></pre>\n",
        "\n",
        "but instead taken from a dictionary, e.g.\n",
        "\n",
        "<pre><code>\n",
        "params = {'number_of_neurons' : [4, 6, 7, 8], 'activation' : ['relu'] }\n",
        "\n",
        "model.add(layers.Dense(params['number_of_neurons'], activation=params['activation']))    \n",
        "</code></pre>\n",
        "\n",
        "Afterwards, this dictionary and the model will be passed to Talos. In the dictionary we have \n",
        "three different ways to input values:\n",
        "\n",
        "- as stepped ranges (min, max, steps) if the parameter is a floating point number\n",
        "- as multiple values [in a list]\n",
        "- as a single value [in a list]\n",
        "\n",
        "For values we don't want to use, it's ok to set it as None."
      ]
    },
    {
      "cell_type": "markdown",
      "metadata": {
        "pycharm": {
          "name": "#%% md\n"
        },
        "id": "Ttwbg3Sf0APJ"
      },
      "source": [
        "## Tasks ## \n",
        "__Excercise 1:__\n",
        " - Create a Python dictionary that contains at least the following entries:\n",
        "    * 'number_of_layers' : 1, 2\n",
        "    * 'number_of_neurons' : 8, 16, 32, 64\n",
        "    * 'dropout_value' : None, 0.1, 0.2\n",
        "    * 'optimizer' : 'Adam', 'rmsprop'\n",
        "    * 'batch_size': 1, 2, 4, 8 \n",
        "    * 'epoch_number' : 10, 20, 40, 80\n",
        "    * anything that you want to modify further (e.g. learning_rate, activation_function, loss_function, ...)\n",
        " - What is the number of different hyperparameter configurations that is considered in the first six bullet points?"
      ]
    },
    {
      "cell_type": "code",
      "metadata": {
        "pycharm": {
          "name": "#%%\n"
        },
        "id": "I0-eRBwe0APK"
      },
      "source": [
        "# parameter dictionary\n",
        "param = {\n",
        "        # enter your code here\n",
        "}\n"
      ],
      "execution_count": null,
      "outputs": []
    },
    {
      "cell_type": "markdown",
      "metadata": {
        "pycharm": {
          "name": "#%% md\n"
        },
        "id": "U_Y4S26X0APQ"
      },
      "source": [
        "## Tasks ## \n",
        "__Excercise 2:__\n",
        " - Modify your original Keras model (Jupyter notebook 1) such that it uses uses the values from a \n",
        " dictionary 'p'."
      ]
    },
    {
      "cell_type": "code",
      "metadata": {
        "pycharm": {
          "name": "#%%\n"
        },
        "id": "ZTdvbXQz0APR"
      },
      "source": [
        "from keras import models\n",
        "from keras import layers\n",
        "\n",
        "# note: this build model works for a limited number of hidden layers, there are other options in Talos\n",
        "# if you are interested in a large number of layers (see: Outlook at the end of this tutorial)\n",
        "def build_better_model(x, y, val_data, val_targets, p):\n",
        "    model = models.Sequential()\n",
        "    \n",
        "    # replace the hyperparameter inputs with references to dictionary p \n",
        "    \n",
        "    # enter your code here\n",
        "        \n",
        "    model.add(layers.Dense(1))\n",
        "    model.compile(optimizer='Adam', loss='mse', metrics=['mae'])\n",
        "    \n",
        "    # make sure history object is returned by model.fit()\n",
        "    history = model.fit(x, y, \n",
        "                        # enter your code here\n",
        "                        #epochs=\n",
        "                        #batch_size= \n",
        "                        verbose=0)\n",
        "    \n",
        "    return history, model"
      ],
      "execution_count": null,
      "outputs": []
    },
    {
      "cell_type": "markdown",
      "metadata": {
        "id": "pSD6guPW0APX"
      },
      "source": [
        "## 2. Use Talos for hyperparameter optimization <a name=\"two\"></a> \n",
        "\n",
        "This part is quite simple. The Talos experiment just uses the <code> Scan()</code> command. In the following,\n",
        "we will investigate different arguments for this routine. However, there are only five necessary arguments\n",
        "that are required:\n",
        "* train_data (often known as 'x')\n",
        "* train_targets (often known as 'y')\n",
        "* params (the dictionary 'param' that we have created before)\n",
        "* model (the 'build_model' that we also have created before)\n",
        "* experiment_name (name of a folder in which the output, a csv-file, is stored)"
      ]
    },
    {
      "cell_type": "code",
      "metadata": {
        "id": "x9dqSe_i0APZ",
        "colab": {
          "base_uri": "https://localhost:8080/"
        },
        "outputId": "df9bead1-1e24-4fef-d138-45b89ad94263"
      },
      "source": [
        "scan_object = talos.Scan(x=train_data,\n",
        "                         y=train_targets,\n",
        "                         model=build_better_model,\n",
        "                         experiment_name='find_optimal_params',\n",
        "                         params=param,\n",
        "                         round_limit=1)"
      ],
      "execution_count": null,
      "outputs": [
        {
          "output_type": "stream",
          "text": [
            "100%|██████████| 1/1 [00:00<00:00,  2.14it/s]\n"
          ],
          "name": "stderr"
        }
      ]
    },
    {
      "cell_type": "markdown",
      "metadata": {
        "pycharm": {
          "name": "#%% md\n"
        },
        "id": "tirIFPtI0APe"
      },
      "source": [
        "If all different parameter configurations from the dictionary are used, the routine <code> Scan()</code> has to\n",
        "evaluate 768 different models. Depending on the neural network architecture and the number of training samples,\n",
        "this can be very time-consuming.\n",
        "\n",
        "As a solution, Talos offers several routines to limit the number of model configurations that is evaluated. Two useful\n",
        "commands of <code> Scan()</code> for this purpose are:\n",
        "\n",
        "* <code> round_limit=10</code> which limits the number of model evaluations to the specified integer value (e.g. \n",
        "10 model evaluations in this example).\n",
        "* <code> fraction_limit = 0.1</code> specifies the fraction of `params` that will be tested  (e.g. 10% of the \n",
        "configurations in this example).   "
      ]
    },
    {
      "cell_type": "markdown",
      "metadata": {
        "id": "aCk70bzP0APf"
      },
      "source": [
        "### Access the results through the <code>Scan</code> object "
      ]
    },
    {
      "cell_type": "markdown",
      "metadata": {
        "pycharm": {
          "name": "#%% md\n"
        },
        "id": "QT2ar2Dm0APg"
      },
      "source": [
        "Using <code> round_limit=10</code> we have investigated only ten parameter configurations (since the time\n",
        "for this tutorial is limited). But how do I get the ten configurations that have been used and what is their\n",
        "performance?\n",
        "\n",
        "For this purpose, the results of the scan object can be directly accessed:"
      ]
    },
    {
      "cell_type": "code",
      "metadata": {
        "pycharm": {
          "name": "#%%\n"
        },
        "id": "sbW0Csha0APh",
        "colab": {
          "base_uri": "https://localhost:8080/",
          "height": 76
        },
        "outputId": "e90a80ed-e22f-4f2f-c3e5-45443d318b5d"
      },
      "source": [
        "# accessing the results data frame\n",
        "scan_object.data\n"
      ],
      "execution_count": null,
      "outputs": [
        {
          "output_type": "execute_result",
          "data": {
            "text/html": [
              "<div>\n",
              "<style scoped>\n",
              "    .dataframe tbody tr th:only-of-type {\n",
              "        vertical-align: middle;\n",
              "    }\n",
              "\n",
              "    .dataframe tbody tr th {\n",
              "        vertical-align: top;\n",
              "    }\n",
              "\n",
              "    .dataframe thead th {\n",
              "        text-align: right;\n",
              "    }\n",
              "</style>\n",
              "<table border=\"1\" class=\"dataframe\">\n",
              "  <thead>\n",
              "    <tr style=\"text-align: right;\">\n",
              "      <th></th>\n",
              "      <th>start</th>\n",
              "      <th>end</th>\n",
              "      <th>duration</th>\n",
              "      <th>round_epochs</th>\n",
              "      <th>loss</th>\n",
              "      <th>mae</th>\n",
              "    </tr>\n",
              "  </thead>\n",
              "  <tbody>\n",
              "    <tr>\n",
              "      <th>0</th>\n",
              "      <td>11/15/20-170104</td>\n",
              "      <td>11/15/20-170105</td>\n",
              "      <td>0.922704</td>\n",
              "      <td>1</td>\n",
              "      <td>567.493103</td>\n",
              "      <td>22.275145</td>\n",
              "    </tr>\n",
              "  </tbody>\n",
              "</table>\n",
              "</div>"
            ],
            "text/plain": [
              "             start              end  ...        loss        mae\n",
              "0  11/15/20-170104  11/15/20-170105  ...  567.493103  22.275145\n",
              "\n",
              "[1 rows x 6 columns]"
            ]
          },
          "metadata": {
            "tags": []
          },
          "execution_count": 22
        }
      ]
    },
    {
      "cell_type": "markdown",
      "metadata": {
        "pycharm": {
          "name": "#%% md\n"
        },
        "id": "rqmBNQh-0APn"
      },
      "source": [
        "The output on my local computer is (the results should differ on your machine since you \n",
        "consider ten other random parameter configurations)\n",
        "\n",
        "<img src='https://raw.githubusercontent.com/DLR-SC/Hyperparameter_tutorial/master/img/talos_scan_output.png' \n",
        "width=1000px>\n",
        "\n",
        "There are several hyperparameter configurations with a mean average error (mae) in the range 2-3 \n",
        "(i.e. the average house pricing error is 2000-3000 dollar).\n",
        "Since the number of training samples is only 400, the results of the mean average error \n",
        "have a high variance and should not be overestimated. Nevertheless, we already obtain a certain \n",
        "understanding of a sensible size of some of the hyperparameters (e.g. 10 epochs is certainly not\n",
        " enough since 'mae' becomes large then).\n",
        " "
      ]
    },
    {
      "cell_type": "markdown",
      "metadata": {
        "pycharm": {
          "name": "#%% md\n"
        },
        "id": "Vak9boIz0APo"
      },
      "source": [
        "You already noticed that your results differ from mine. This is due to the usage of a 'random search'\n",
        "strategy in Talos. More information on the search strategy are given \n",
        "in the summary details using <code>scan_object.details</code>.  "
      ]
    },
    {
      "cell_type": "code",
      "metadata": {
        "pycharm": {
          "name": "#%%\n"
        },
        "id": "3SXvAJDJ0APp",
        "colab": {
          "base_uri": "https://localhost:8080/"
        },
        "outputId": "d59db0e5-609e-45eb-cffc-a8110c552427"
      },
      "source": [
        "# access the summary details\n",
        "scan_object.details\n"
      ],
      "execution_count": null,
      "outputs": [
        {
          "output_type": "execute_result",
          "data": {
            "text/plain": [
              "experiment_name        find_optimal_params\n",
              "random_method             uniform_mersenne\n",
              "reduction_method                      None\n",
              "reduction_interval                      50\n",
              "reduction_window                        20\n",
              "reduction_threshold                    0.2\n",
              "reduction_metric                   val_acc\n",
              "complete_time               11/15/20/17:01\n",
              "x_shape                          (404, 13)\n",
              "y_shape                             (404,)\n",
              "dtype: object"
            ]
          },
          "metadata": {
            "tags": []
          },
          "execution_count": 23
        }
      ]
    },
    {
      "cell_type": "markdown",
      "metadata": {
        "pycharm": {
          "name": "#%% md\n"
        },
        "id": "EF5BxlaH0APu"
      },
      "source": [
        "From the 768 possible hyperparameter configurations Talos considers a random subset\n",
        "of ten configurations (due to <code>round_limit=10</code>). This random subset \n",
        "is chosen with a 'Mersenne Twister' pseudorandom number generator. Other possible\n",
        "random choices in Talos are, for instance, 'Halton' or 'Sobol' quasi Monte Carlo sequences.\n",
        "\n",
        "Note: If there is no parameter such as  <code> round_limit=10</code> or\n",
        "<code> fraction_limit = 0.1</code> the default optimization strategy \n",
        "is called 'grid search'. This means that all hyperparameter permutations in \n",
        "a given dictionary are processed. In most cases, this is not recommended\n",
        "for anything but very small permutation spaces. \n",
        "Therefore, better use a 'random search' routine."
      ]
    },
    {
      "cell_type": "markdown",
      "metadata": {
        "id": "4vXboAhH0APv"
      },
      "source": [
        "In addition to statistics and meta-data related with the Scan, the used data (x and y) \n",
        "together with the saved model and model weights for each hyperparameter permutation is stored in the Scan object. "
      ]
    },
    {
      "cell_type": "code",
      "metadata": {
        "pycharm": {
          "name": "#%%\n"
        },
        "id": "T3G2hn0R0APw",
        "colab": {
          "base_uri": "https://localhost:8080/"
        },
        "outputId": "68a8002c-2225-4b7c-d96b-5b00eda8ea19"
      },
      "source": [
        "# accessing the saved models which returns a list of models\n",
        "scan_object.saved_models"
      ],
      "execution_count": null,
      "outputs": [
        {
          "output_type": "execute_result",
          "data": {
            "text/plain": [
              "['{\"class_name\": \"Sequential\", \"config\": {\"name\": \"sequential\", \"layers\": [{\"class_name\": \"InputLayer\", \"config\": {\"batch_input_shape\": [null, 13], \"dtype\": \"float32\", \"sparse\": false, \"ragged\": false, \"name\": \"dense_input\"}}, {\"class_name\": \"Dense\", \"config\": {\"name\": \"dense\", \"trainable\": true, \"dtype\": \"float32\", \"units\": 1, \"activation\": \"linear\", \"use_bias\": true, \"kernel_initializer\": {\"class_name\": \"GlorotUniform\", \"config\": {\"seed\": null}}, \"bias_initializer\": {\"class_name\": \"Zeros\", \"config\": {}}, \"kernel_regularizer\": null, \"bias_regularizer\": null, \"activity_regularizer\": null, \"kernel_constraint\": null, \"bias_constraint\": null}}]}, \"keras_version\": \"2.4.0\", \"backend\": \"tensorflow\"}']"
            ]
          },
          "metadata": {
            "tags": []
          },
          "execution_count": 24
        }
      ]
    },
    {
      "cell_type": "code",
      "metadata": {
        "id": "5xGuy0cc0AP2",
        "colab": {
          "base_uri": "https://localhost:8080/"
        },
        "outputId": "c0ea4712-139f-4e31-cd74-95497a6fcd59"
      },
      "source": [
        "# accessing the saved weights for models which returns a list of weights\n",
        "model_weights = scan_object.saved_weights\n",
        "\n",
        "# weights of first model \n",
        "model_weights[0]"
      ],
      "execution_count": null,
      "outputs": [
        {
          "output_type": "execute_result",
          "data": {
            "text/plain": [
              "[array([[ 0.56241167],\n",
              "        [ 0.43930155],\n",
              "        [-0.25476107],\n",
              "        [ 0.09958611],\n",
              "        [-0.54865754],\n",
              "        [-0.55058753],\n",
              "        [-0.54266226],\n",
              "        [ 0.44590652],\n",
              "        [-0.20309596],\n",
              "        [ 0.0916486 ],\n",
              "        [ 0.11827277],\n",
              "        [-0.54227483],\n",
              "        [-0.4934331 ]], dtype=float32), array([0.00900865], dtype=float32)]"
            ]
          },
          "metadata": {
            "tags": []
          },
          "execution_count": 25
        }
      ]
    },
    {
      "cell_type": "markdown",
      "metadata": {
        "id": "lYnX37Mk0AP6"
      },
      "source": [
        "The Scan object can be further used, and is required, as input for Predict(), Evaluate(), and Deploy(). \n",
        "More about this in the corresponding sections below."
      ]
    },
    {
      "cell_type": "markdown",
      "metadata": {
        "id": "CMRbyJxU0AP7"
      },
      "source": [
        "### Analysing the Scan results with <code>Reporting()</code> "
      ]
    },
    {
      "cell_type": "markdown",
      "metadata": {
        "id": "lsAzHfT10AP8"
      },
      "source": [
        "In the Scan process, the results are stored round-by-round in the corresponding experiment log which is a .csv file stored in the \n",
        "output directory (which is './find_optimal_params' our case). The Reporting() \n",
        "accepts as its source either a file name, or the Scan object. "
      ]
    },
    {
      "cell_type": "code",
      "metadata": {
        "id": "tFHVdNxh0AP9"
      },
      "source": [
        "# use Scan object as input\n",
        "analyze_object = talos.Analyze(scan_object)"
      ],
      "execution_count": null,
      "outputs": []
    },
    {
      "cell_type": "code",
      "metadata": {
        "pycharm": {
          "name": "#%%\n"
        },
        "id": "1ssNWLsy0AQC",
        "colab": {
          "base_uri": "https://localhost:8080/"
        },
        "outputId": "0a9697d9-37de-4149-e4f6-907e6dd8002b"
      },
      "source": [
        "# get the number of rounds in the Scan\n",
        "analyze_object.rounds()"
      ],
      "execution_count": null,
      "outputs": [
        {
          "output_type": "execute_result",
          "data": {
            "text/plain": [
              "1"
            ]
          },
          "metadata": {
            "tags": []
          },
          "execution_count": 27
        }
      ]
    },
    {
      "cell_type": "code",
      "metadata": {
        "pycharm": {
          "name": "#%%\n"
        },
        "id": "2nAStZsc0AQH",
        "colab": {
          "base_uri": "https://localhost:8080/"
        },
        "outputId": "ac7b0a81-1cfe-48d9-d8ed-6eee36530639"
      },
      "source": [
        "# get the lowest result for any metric (if lower is better)\n",
        "analyze_object.low('mae')"
      ],
      "execution_count": null,
      "outputs": [
        {
          "output_type": "execute_result",
          "data": {
            "text/plain": [
              "22.275144577026367"
            ]
          },
          "metadata": {
            "tags": []
          },
          "execution_count": 28
        }
      ]
    },
    {
      "cell_type": "markdown",
      "metadata": {
        "pycharm": {
          "name": "#%% md\n"
        },
        "id": "wlRtdyEX0AQN"
      },
      "source": [
        "Next, we want to know the parameters of our best n=3 parameter runs. \n",
        "For this purpose we use <code> best_params</code>. It is alluring to consider the best \n",
        "result only (i.e. n=1 in the following cell) but keep in mind that due to the high\n",
        "variance in the result, a sequence of more models should be considered.\n",
        "\n",
        "The signature of <code> best_params()</code> is the following:\n",
        "* The first argument (here 'mae') is the metric that is considered.\n",
        "* The second argument is a list of metrics / loss functions that is not required here\n",
        "* The third argument gives the 'n' best results\n",
        "* Fourth argument: ascending | bool | Set to True when `metric` is to be minimized eg. loss or mae"
      ]
    },
    {
      "cell_type": "code",
      "metadata": {
        "pycharm": {
          "name": "#%%\n"
        },
        "id": "OsViIG-D0AQO",
        "colab": {
          "base_uri": "https://localhost:8080/"
        },
        "outputId": "4a76cd50-540c-4d56-b78a-542038dc55d8"
      },
      "source": [
        "# get the best n=3 paramaters\n",
        "analyze_object.best_params('mae', ['loss'], n=3, ascending=True)"
      ],
      "execution_count": null,
      "outputs": [
        {
          "output_type": "execute_result",
          "data": {
            "text/plain": [
              "array([['11/15/20-170105', 1, '11/15/20-170104', 0.922703742980957, 0]],\n",
              "      dtype=object)"
            ]
          },
          "metadata": {
            "tags": []
          },
          "execution_count": 29
        }
      ]
    },
    {
      "cell_type": "markdown",
      "metadata": {
        "pycharm": {
          "name": "#%% md\n"
        },
        "id": "h34-Scbg0AQS"
      },
      "source": [
        "It is very important to determine which of your hyperparameters has the largest impact on \n",
        "your performance metric. These are the parameters that should be further investigated. \n",
        "\n",
        "One solution to achieve this is to compute the linear correlation between your performance metric\n",
        "'mae' and your hyperparamters. The correlation coefficient is +1 in the case of a perfect direct\n",
        "(increasing) linear relationship, -1 in the case of a perfect decreasing (inverse) linear \n",
        "relationship and some values in (-1, 1) otherwise (indicating the degree of linear dependance\n",
        "between the variables).\n",
        "\n",
        "We employ <code> correlate()</code> for computing the correlation"
      ]
    },
    {
      "cell_type": "code",
      "metadata": {
        "pycharm": {
          "name": "#%%\n"
        },
        "id": "Kc77JXrM0AQT",
        "colab": {
          "base_uri": "https://localhost:8080/"
        },
        "outputId": "d3d367fb-8045-41b9-8b09-96644c5898c9"
      },
      "source": [
        "# get correlation for hyperparameters against a performance metric such as 'mae' (we exclude 'loss' since \n",
        "# this is not a hyperparameter)\n",
        "analyze_object.correlate('mae', ['loss', 'round_epochs'])"
      ],
      "execution_count": null,
      "outputs": [
        {
          "output_type": "execute_result",
          "data": {
            "text/plain": [
              "mae        NaN\n",
              "duration   NaN\n",
              "Name: mae, dtype: float64"
            ]
          },
          "metadata": {
            "tags": []
          },
          "execution_count": 30
        }
      ]
    },
    {
      "cell_type": "markdown",
      "metadata": {
        "pycharm": {
          "name": "#%% md\n"
        },
        "id": "nBbDIyM50AQZ"
      },
      "source": [
        "Since you have only then different hyperparameter runs, the output is almost random. However, in practice \n",
        "with hundreds or thousand of different configurations the result is much less stochastic noise in this output.\n",
        "\n",
        "<img src='https://raw.githubusercontent.com/DLR-SC/Hyperparameter_tutorial/master/img/talos_correlate.png' \n",
        "width=240px>\n",
        "\n",
        "In my special case, 'epoch_number' and 'number_of_neurons' have the strongest inverse effect on 'mae'\n",
        "(i.e. 'more epochs tend to lead to a lower mean average error'). The 'batch_size' seems to be less important. "
      ]
    },
    {
      "cell_type": "markdown",
      "metadata": {
        "id": "T1z4yELJ0AQa"
      },
      "source": [
        "You can also plot a heatmap of this correlation using <code> plot_corr()</code>:"
      ]
    },
    {
      "cell_type": "code",
      "metadata": {
        "pycharm": {
          "name": "#%%\n"
        },
        "id": "eTKsZTIW0AQb",
        "colab": {
          "base_uri": "https://localhost:8080/",
          "height": 438
        },
        "outputId": "c458ded5-8f7c-49b5-b6bc-03d35512575e"
      },
      "source": [
        "# heatmap correlation\n",
        "analyze_object.plot_corr('mae', ['loss', 'round_epochs'])"
      ],
      "execution_count": null,
      "outputs": [
        {
          "output_type": "stream",
          "text": [
            "findfont: Font family ['Verdana'] not found. Falling back to DejaVu Sans.\n"
          ],
          "name": "stderr"
        },
        {
          "output_type": "display_data",
          "data": {
            "image/png": "[encoded data removed]",
            "text/plain": [
              "<Figure size 432x432 with 2 Axes>"
            ]
          },
          "metadata": {
            "tags": []
          }
        }
      ]
    },
    {
      "cell_type": "markdown",
      "metadata": {
        "pycharm": {
          "name": "#%% md\n"
        },
        "id": "F7gieYWT0AQg"
      },
      "source": [
        "The correlation between variables in one viable way to find the most important\n",
        "hyperparameters. A different approach is given by <code> plot_bars()</code>.\n",
        "Using this function, the metric 'mae' is plotted for different values of the \n",
        "hyperparameters 'number_of_neurons', 'number_of_layers' and 'epoch_number'. As mentioned\n",
        "before, 'mae' seems to decrease for larger values of these hyperparameters (in the\n",
        "specified region of the dictionary).\n",
        "\n",
        "The bar grid cotanins error bars if there is more than one result for the specified\n",
        "hyperparameter set ('number_of_neurons', 'epoch_number', 'number_of_layers'). "
      ]
    },
    {
      "cell_type": "code",
      "metadata": {
        "pycharm": {
          "name": "#%%\n"
        },
        "id": "yoN-9meI0AQh",
        "colab": {
          "base_uri": "https://localhost:8080/",
          "height": 1000
        },
        "outputId": "26ed1c48-29e4-4e38-f80e-2a6be6cb8b3f"
      },
      "source": [
        "# a four dimensional bar grid\n",
        "analyze_object.plot_bars('number_of_neurons','mae', 'epoch_number', 'number_of_layers')"
      ],
      "execution_count": null,
      "outputs": [
        {
          "output_type": "error",
          "ename": "KeyError",
          "evalue": "ignored",
          "traceback": [
            "\u001b[0;31m---------------------------------------------------------------------------\u001b[0m",
            "\u001b[0;31mKeyError\u001b[0m                                  Traceback (most recent call last)",
            "\u001b[0;32m/usr/local/lib/python3.6/dist-packages/pandas/core/indexes/base.py\u001b[0m in \u001b[0;36mget_loc\u001b[0;34m(self, key, method, tolerance)\u001b[0m\n\u001b[1;32m   2894\u001b[0m             \u001b[0;32mtry\u001b[0m\u001b[0;34m:\u001b[0m\u001b[0;34m\u001b[0m\u001b[0;34m\u001b[0m\u001b[0m\n\u001b[0;32m-> 2895\u001b[0;31m                 \u001b[0;32mreturn\u001b[0m \u001b[0mself\u001b[0m\u001b[0;34m.\u001b[0m\u001b[0m_engine\u001b[0m\u001b[0;34m.\u001b[0m\u001b[0mget_loc\u001b[0m\u001b[0;34m(\u001b[0m\u001b[0mcasted_key\u001b[0m\u001b[0;34m)\u001b[0m\u001b[0;34m\u001b[0m\u001b[0;34m\u001b[0m\u001b[0m\n\u001b[0m\u001b[1;32m   2896\u001b[0m             \u001b[0;32mexcept\u001b[0m \u001b[0mKeyError\u001b[0m \u001b[0;32mas\u001b[0m \u001b[0merr\u001b[0m\u001b[0;34m:\u001b[0m\u001b[0;34m\u001b[0m\u001b[0;34m\u001b[0m\u001b[0m\n",
            "\u001b[0;32mpandas/_libs/index.pyx\u001b[0m in \u001b[0;36mpandas._libs.index.IndexEngine.get_loc\u001b[0;34m()\u001b[0m\n",
            "\u001b[0;32mpandas/_libs/index.pyx\u001b[0m in \u001b[0;36mpandas._libs.index.IndexEngine.get_loc\u001b[0;34m()\u001b[0m\n",
            "\u001b[0;32mpandas/_libs/hashtable_class_helper.pxi\u001b[0m in \u001b[0;36mpandas._libs.hashtable.PyObjectHashTable.get_item\u001b[0;34m()\u001b[0m\n",
            "\u001b[0;32mpandas/_libs/hashtable_class_helper.pxi\u001b[0m in \u001b[0;36mpandas._libs.hashtable.PyObjectHashTable.get_item\u001b[0;34m()\u001b[0m\n",
            "\u001b[0;31mKeyError\u001b[0m: 'epoch_number'",
            "\nThe above exception was the direct cause of the following exception:\n",
            "\u001b[0;31mKeyError\u001b[0m                                  Traceback (most recent call last)",
            "\u001b[0;32m<ipython-input-32-4fd7595dd5cf>\u001b[0m in \u001b[0;36m<module>\u001b[0;34m()\u001b[0m\n\u001b[1;32m      1\u001b[0m \u001b[0;31m# a four dimensional bar grid\u001b[0m\u001b[0;34m\u001b[0m\u001b[0;34m\u001b[0m\u001b[0;34m\u001b[0m\u001b[0m\n\u001b[0;32m----> 2\u001b[0;31m \u001b[0manalyze_object\u001b[0m\u001b[0;34m.\u001b[0m\u001b[0mplot_bars\u001b[0m\u001b[0;34m(\u001b[0m\u001b[0;34m'number_of_neurons'\u001b[0m\u001b[0;34m,\u001b[0m\u001b[0;34m'mae'\u001b[0m\u001b[0;34m,\u001b[0m \u001b[0;34m'epoch_number'\u001b[0m\u001b[0;34m,\u001b[0m \u001b[0;34m'number_of_layers'\u001b[0m\u001b[0;34m)\u001b[0m\u001b[0;34m\u001b[0m\u001b[0;34m\u001b[0m\u001b[0m\n\u001b[0m",
            "\u001b[0;32m/usr/local/lib/python3.6/dist-packages/talos/commands/analyze.py\u001b[0m in \u001b[0;36mplot_bars\u001b[0;34m(self, x, y, hue, col)\u001b[0m\n\u001b[1;32m    152\u001b[0m                                \u001b[0mhue\u001b[0m\u001b[0;34m=\u001b[0m\u001b[0mhue\u001b[0m\u001b[0;34m,\u001b[0m\u001b[0;34m\u001b[0m\u001b[0;34m\u001b[0m\u001b[0m\n\u001b[1;32m    153\u001b[0m                                \u001b[0mcol\u001b[0m\u001b[0;34m=\u001b[0m\u001b[0mcol\u001b[0m\u001b[0;34m,\u001b[0m\u001b[0;34m\u001b[0m\u001b[0;34m\u001b[0m\u001b[0m\n\u001b[0;32m--> 154\u001b[0;31m                                col_wrap=4)\n\u001b[0m\u001b[1;32m    155\u001b[0m         \u001b[0;32mexcept\u001b[0m \u001b[0mRuntimeError\u001b[0m\u001b[0;34m:\u001b[0m\u001b[0;34m\u001b[0m\u001b[0;34m\u001b[0m\u001b[0m\n\u001b[1;32m    156\u001b[0m             \u001b[0mprint\u001b[0m\u001b[0;34m(\u001b[0m\u001b[0;34m'Matplotlib Runtime Error. Plots will not work.'\u001b[0m\u001b[0;34m)\u001b[0m\u001b[0;34m\u001b[0m\u001b[0;34m\u001b[0m\u001b[0m\n",
            "\u001b[0;32m/usr/local/lib/python3.6/dist-packages/astetik/plots/bargrid.py\u001b[0m in \u001b[0;36mbargrid\u001b[0;34m(data, x, y, hue, row, col, col_wrap, palette, style, dpi, title, sub_title, x_label, y_label, legend, x_scale, y_scale, x_limit, y_limit, save)\u001b[0m\n\u001b[1;32m    121\u001b[0m \u001b[0;34m\u001b[0m\u001b[0m\n\u001b[1;32m    122\u001b[0m     \u001b[0;32mif\u001b[0m \u001b[0mhue\u001b[0m \u001b[0;34m!=\u001b[0m \u001b[0;32mNone\u001b[0m\u001b[0;34m:\u001b[0m\u001b[0;34m\u001b[0m\u001b[0;34m\u001b[0m\u001b[0m\n\u001b[0;32m--> 123\u001b[0;31m         \u001b[0mn_colors\u001b[0m \u001b[0;34m=\u001b[0m \u001b[0mlen\u001b[0m\u001b[0;34m(\u001b[0m\u001b[0mdata\u001b[0m\u001b[0;34m[\u001b[0m\u001b[0mhue\u001b[0m\u001b[0;34m]\u001b[0m\u001b[0;34m.\u001b[0m\u001b[0munique\u001b[0m\u001b[0;34m(\u001b[0m\u001b[0;34m)\u001b[0m\u001b[0;34m)\u001b[0m\u001b[0;34m\u001b[0m\u001b[0;34m\u001b[0m\u001b[0m\n\u001b[0m\u001b[1;32m    124\u001b[0m     \u001b[0;32melse\u001b[0m\u001b[0;34m:\u001b[0m\u001b[0;34m\u001b[0m\u001b[0;34m\u001b[0m\u001b[0m\n\u001b[1;32m    125\u001b[0m         \u001b[0mn_colors\u001b[0m \u001b[0;34m=\u001b[0m \u001b[0mlen\u001b[0m\u001b[0;34m(\u001b[0m\u001b[0mdata\u001b[0m\u001b[0;34m[\u001b[0m\u001b[0mx\u001b[0m\u001b[0;34m]\u001b[0m\u001b[0;34m.\u001b[0m\u001b[0munique\u001b[0m\u001b[0;34m(\u001b[0m\u001b[0;34m)\u001b[0m\u001b[0;34m)\u001b[0m\u001b[0;34m\u001b[0m\u001b[0;34m\u001b[0m\u001b[0m\n",
            "\u001b[0;32m/usr/local/lib/python3.6/dist-packages/pandas/core/frame.py\u001b[0m in \u001b[0;36m__getitem__\u001b[0;34m(self, key)\u001b[0m\n\u001b[1;32m   2904\u001b[0m             \u001b[0;32mif\u001b[0m \u001b[0mself\u001b[0m\u001b[0;34m.\u001b[0m\u001b[0mcolumns\u001b[0m\u001b[0;34m.\u001b[0m\u001b[0mnlevels\u001b[0m \u001b[0;34m>\u001b[0m \u001b[0;36m1\u001b[0m\u001b[0;34m:\u001b[0m\u001b[0;34m\u001b[0m\u001b[0;34m\u001b[0m\u001b[0m\n\u001b[1;32m   2905\u001b[0m                 \u001b[0;32mreturn\u001b[0m \u001b[0mself\u001b[0m\u001b[0;34m.\u001b[0m\u001b[0m_getitem_multilevel\u001b[0m\u001b[0;34m(\u001b[0m\u001b[0mkey\u001b[0m\u001b[0;34m)\u001b[0m\u001b[0;34m\u001b[0m\u001b[0;34m\u001b[0m\u001b[0m\n\u001b[0;32m-> 2906\u001b[0;31m             \u001b[0mindexer\u001b[0m \u001b[0;34m=\u001b[0m \u001b[0mself\u001b[0m\u001b[0;34m.\u001b[0m\u001b[0mcolumns\u001b[0m\u001b[0;34m.\u001b[0m\u001b[0mget_loc\u001b[0m\u001b[0;34m(\u001b[0m\u001b[0mkey\u001b[0m\u001b[0;34m)\u001b[0m\u001b[0;34m\u001b[0m\u001b[0;34m\u001b[0m\u001b[0m\n\u001b[0m\u001b[1;32m   2907\u001b[0m             \u001b[0;32mif\u001b[0m \u001b[0mis_integer\u001b[0m\u001b[0;34m(\u001b[0m\u001b[0mindexer\u001b[0m\u001b[0;34m)\u001b[0m\u001b[0;34m:\u001b[0m\u001b[0;34m\u001b[0m\u001b[0;34m\u001b[0m\u001b[0m\n\u001b[1;32m   2908\u001b[0m                 \u001b[0mindexer\u001b[0m \u001b[0;34m=\u001b[0m \u001b[0;34m[\u001b[0m\u001b[0mindexer\u001b[0m\u001b[0;34m]\u001b[0m\u001b[0;34m\u001b[0m\u001b[0;34m\u001b[0m\u001b[0m\n",
            "\u001b[0;32m/usr/local/lib/python3.6/dist-packages/pandas/core/indexes/base.py\u001b[0m in \u001b[0;36mget_loc\u001b[0;34m(self, key, method, tolerance)\u001b[0m\n\u001b[1;32m   2895\u001b[0m                 \u001b[0;32mreturn\u001b[0m \u001b[0mself\u001b[0m\u001b[0;34m.\u001b[0m\u001b[0m_engine\u001b[0m\u001b[0;34m.\u001b[0m\u001b[0mget_loc\u001b[0m\u001b[0;34m(\u001b[0m\u001b[0mcasted_key\u001b[0m\u001b[0;34m)\u001b[0m\u001b[0;34m\u001b[0m\u001b[0;34m\u001b[0m\u001b[0m\n\u001b[1;32m   2896\u001b[0m             \u001b[0;32mexcept\u001b[0m \u001b[0mKeyError\u001b[0m \u001b[0;32mas\u001b[0m \u001b[0merr\u001b[0m\u001b[0;34m:\u001b[0m\u001b[0;34m\u001b[0m\u001b[0;34m\u001b[0m\u001b[0m\n\u001b[0;32m-> 2897\u001b[0;31m                 \u001b[0;32mraise\u001b[0m \u001b[0mKeyError\u001b[0m\u001b[0;34m(\u001b[0m\u001b[0mkey\u001b[0m\u001b[0;34m)\u001b[0m \u001b[0;32mfrom\u001b[0m \u001b[0merr\u001b[0m\u001b[0;34m\u001b[0m\u001b[0;34m\u001b[0m\u001b[0m\n\u001b[0m\u001b[1;32m   2898\u001b[0m \u001b[0;34m\u001b[0m\u001b[0m\n\u001b[1;32m   2899\u001b[0m         \u001b[0;32mif\u001b[0m \u001b[0mtolerance\u001b[0m \u001b[0;32mis\u001b[0m \u001b[0;32mnot\u001b[0m \u001b[0;32mNone\u001b[0m\u001b[0;34m:\u001b[0m\u001b[0;34m\u001b[0m\u001b[0;34m\u001b[0m\u001b[0m\n",
            "\u001b[0;31mKeyError\u001b[0m: 'epoch_number'"
          ]
        }
      ]
    },
    {
      "cell_type": "markdown",
      "metadata": {
        "pycharm": {
          "name": "#%% md\n"
        },
        "id": "f_cykt130AQl"
      },
      "source": [
        "My current output plot is\n",
        "\n",
        "<img src='https://raw.githubusercontent.com/DLR-SC/Hyperparameter_tutorial/master/img/talos_bar.png' \n",
        "width=1300px>"
      ]
    },
    {
      "cell_type": "markdown",
      "metadata": {
        "pycharm": {
          "name": "#%% md\n"
        },
        "id": "BPUlEQBG0AQm"
      },
      "source": [
        "## Tasks ## \n",
        "__Excercise 3:__\n",
        " - Apply the described process to your Talos output. In more detail:\n",
        "    * Find the hyperparameters that have the largest effect on the performance metric.\n",
        "    * Create a 2nd hyperparameter dictionary that further investigates these important hyperparameters\n",
        "    * Use <code> Scan() </code> to investigate the 2nd dictionary in more detail \n",
        "    (use larger values for round_limit than 10).\n",
        "    * Try to find a close-to-optimal model for this specific regression problem. "
      ]
    },
    {
      "cell_type": "code",
      "metadata": {
        "pycharm": {
          "name": "#%%\n"
        },
        "id": "uMA-uWBo0AQn"
      },
      "source": [
        "# your new hyperparameter dictionary\n",
        "param2 = {\n",
        "    # enter your code here\n",
        "}"
      ],
      "execution_count": null,
      "outputs": []
    },
    {
      "cell_type": "code",
      "metadata": {
        "pycharm": {
          "name": "#%%\n"
        },
        "id": "z3r609Mz0AQs"
      },
      "source": [
        "scan_object2 = talos.Scan(x=train_data,\n",
        "                         y=train_targets,\n",
        "                         model=build_better_model,\n",
        "                         experiment_name='find_optimal_params',\n",
        "                         # enter your code here\n",
        "                         #params=\n",
        "                         #round_limit=\n",
        "                         )"
      ],
      "execution_count": null,
      "outputs": []
    },
    {
      "cell_type": "code",
      "metadata": {
        "pycharm": {
          "name": "#%%\n"
        },
        "id": "WafbISld0AQw"
      },
      "source": [
        "# if you want to see the full output of Scan()\n",
        "scan_object2.data"
      ],
      "execution_count": null,
      "outputs": []
    },
    {
      "cell_type": "markdown",
      "metadata": {
        "pycharm": {
          "name": "#%% md\n"
        },
        "id": "UXiPUbdo0AQ0"
      },
      "source": [
        "Your best results are:"
      ]
    },
    {
      "cell_type": "code",
      "metadata": {
        "pycharm": {
          "name": "#%%\n"
        },
        "id": "LDj7kVfb0AQ1"
      },
      "source": [
        "# use Scan object as input\n",
        "analyze_object2 = talos.Analyze(scan_object2)\n",
        "\n",
        "# get the best n=3 paramaters\n",
        "analyze_object2.best_params('mae', ['loss'], n=3, ascending=True)"
      ],
      "execution_count": null,
      "outputs": []
    },
    {
      "cell_type": "code",
      "metadata": {
        "pycharm": {
          "name": "#%%\n"
        },
        "id": "B8O_GVN20AQ5"
      },
      "source": [
        "# lowest mae with the parameters from analyze_object2.best_params('mae', ['loss'], n=1, ascending=True)\n",
        "analyze_object2.low('mae')"
      ],
      "execution_count": null,
      "outputs": []
    },
    {
      "cell_type": "markdown",
      "metadata": {
        "pycharm": {
          "name": "#%% md\n"
        },
        "id": "C-dEEAm30AQ_"
      },
      "source": [
        "## Deploy close-to-optimal model"
      ]
    },
    {
      "cell_type": "markdown",
      "metadata": {
        "id": "BoQ-kblp0ARA"
      },
      "source": [
        "### Evaluating Models with <code>Evaluate()</code> "
      ]
    },
    {
      "cell_type": "markdown",
      "metadata": {
        "id": "WRxVeQkq0ARB"
      },
      "source": [
        "Models can be evaluated with <code>Evaluate()</code> against a k-fold cross-validation \n",
        "(<code>fold=K</code> specifies the number of repetitions in <code>Evaluate()</code>). \n",
        "Ideally at least 50% of the data, or more if possible, is kept completely out of the <code>Scan</code> process and only exposed into Evaluate once one or more candidate models have been identified."
      ]
    },
    {
      "cell_type": "code",
      "metadata": {
        "id": "CObMI2Ir0ARB"
      },
      "source": [
        "evaluate_object = talos.Evaluate(scan_object2)\n",
        "\n",
        "# returns a list with 'folds=10' outputs\n",
        "all_mae_results =  evaluate_object.evaluate(test_data, test_targets, folds=10, metric='mae', task='continuous')\n",
        "\n",
        "# this is the average 'mae' that gives an aedequate estimation of our model error (on the test data)\n",
        "np.mean(all_mae_results)"
      ],
      "execution_count": null,
      "outputs": []
    },
    {
      "cell_type": "markdown",
      "metadata": {
        "id": "UTqLUcdK0ARF"
      },
      "source": [
        "Once a sufficiently performing model has been found, a deployment package can be easily created."
      ]
    },
    {
      "cell_type": "markdown",
      "metadata": {
        "id": "CDi3k9Cv0ARG"
      },
      "source": [
        "### Deploying Models with <code>Deploy()</code> "
      ]
    },
    {
      "cell_type": "markdown",
      "metadata": {
        "id": "alAPuGkF0ARH"
      },
      "source": [
        "Once the right model or models have been found, you can create a deployment package with <code>Deploy()</code> which is then easy to transfer to a production or other environment, send via email, or upload to shared remote location. Best model is automatically chosen based on a given metric ('val_acc' by default).\n",
        "\n",
        "The Deploy package is a zip file that consist of: \n",
        "\n",
        "- details of the scan\n",
        "- model weights\n",
        "- model json\n",
        "- results of the experiment\n",
        "- sample of x data\n",
        "- sample of y data\n",
        "\n",
        "The <code>Deploy</code> package can be easily restored with <code>Restore()</code> which is covered in the next section."
      ]
    },
    {
      "cell_type": "code",
      "metadata": {
        "id": "GZ9Dfj9N0ARI"
      },
      "source": [
        "# creates a file waw_regression_deploy.zip (\\approx 13 KB) in the local folder \n",
        "# the parameter 'asc' has to be true if lower means better (e.g. loss, mae) but false otherwise (e.g. accuracy)\n",
        "talos.Deploy(scan_object=scan_object2, model_name='waw_regression_deploy', metric='mae', asc=True);"
      ],
      "execution_count": null,
      "outputs": []
    },
    {
      "cell_type": "markdown",
      "metadata": {
        "id": "G1I_3Wis0ARN"
      },
      "source": [
        "### Restoring Models with <code>Restore()</code>  "
      ]
    },
    {
      "cell_type": "code",
      "metadata": {
        "id": "K8oj2sNz0ARO"
      },
      "source": [
        "waw_regression = talos.Restore('waw_regression_deploy.zip')"
      ],
      "execution_count": null,
      "outputs": []
    },
    {
      "cell_type": "markdown",
      "metadata": {
        "id": "BsPFmpIh0ARS"
      },
      "source": [
        "The <code>Restore</code> object now consists of the assets from the Scan object originally associated with the experiment, together with the model that had been picked as 'best'. The model can be immediately used for making prediction, or use in any other other way Keras model objects can be used."
      ]
    },
    {
      "cell_type": "code",
      "metadata": {
        "pycharm": {
          "name": "#%%\n"
        },
        "id": "Us65v_qm0ARS"
      },
      "source": [
        "# What is the 'best' model that we use for predictions?\n",
        "# this should be the same model as found with (better check this) \n",
        "# 'analyze_object2.best_params('mae', ['loss'], n=1, ascending=True)' from the previous cell \n",
        "waw_regression.model.get_config()"
      ],
      "execution_count": null,
      "outputs": []
    },
    {
      "cell_type": "code",
      "metadata": {
        "id": "2v9O3zP90ARX"
      },
      "source": [
        "# make predictions with the model\n",
        "# if you are interested, compare the output with the ground truth 'test_targets'\n",
        "waw_regression.model.predict(test_data)"
      ],
      "execution_count": null,
      "outputs": []
    },
    {
      "cell_type": "markdown",
      "metadata": {
        "id": "cj4SKyu_0ARb"
      },
      "source": [
        "In addition, for book keeping purpose, and for simplicity of sharing models with team members and other stakeholders, various attributes are included in the <code>Restore</code> object:"
      ]
    },
    {
      "cell_type": "code",
      "metadata": {
        "id": "8pux5zWx0ARb"
      },
      "source": [
        "# get the meta-data for the experiment\n",
        "waw_regression.details"
      ],
      "execution_count": null,
      "outputs": []
    },
    {
      "cell_type": "code",
      "metadata": {
        "id": "n3OFELse0ARf"
      },
      "source": [
        "# get the hyperparameter space boundary, these are the hyperparameter values that you have considered before\n",
        "waw_regression.params"
      ],
      "execution_count": null,
      "outputs": []
    },
    {
      "cell_type": "code",
      "metadata": {
        "id": "5eJsB_O30ARj"
      },
      "source": [
        "# these are the results from the different runs of Scan()\n",
        "waw_regression.results"
      ],
      "execution_count": null,
      "outputs": []
    },
    {
      "cell_type": "markdown",
      "metadata": {
        "pycharm": {
          "name": "#%% md\n"
        },
        "id": "ldNM8U-V0ARn"
      },
      "source": [
        "That's almost all on Talos for today. Of course, there are several other routines that are provided by Talos. You find\n",
        "the most recent version (0.6.4 in November 2019) on GitHub (https://github.com/autonomio/talos).  "
      ]
    },
    {
      "cell_type": "markdown",
      "metadata": {
        "pycharm": {
          "name": "#%% md\n"
        },
        "id": "FSiJL9d60ARo"
      },
      "source": [
        "### Outlook: a large numbers of hidden layers in Talos\n",
        "\n",
        "You probably have noticed that our model architecture in 'def build_better_model()'\n",
        "can only be used for a relatively low number of hidden layers (since you have to add each layer manually).\n",
        "For a larger number of hidden layers, Talos provides a 'hidden_layers' model \n",
        "(https://github.com/autonomio/talos/blob/master/docs/Hidden_Layers.md). When 'hidden_layers' are used,\n",
        "several parameters must be included in your parameter dictionary. These parameters are \n",
        "'dropout', 'shapes', 'hidden_layers', 'first_neuron' and 'activation'. \n",
        "\n",
        "An application for our problem might look like this:"
      ]
    },
    {
      "cell_type": "code",
      "metadata": {
        "pycharm": {
          "name": "#%%\n"
        },
        "id": "RZhJo01Z0ARp"
      },
      "source": [
        "param = {'hidden_layers' : [1, 2],          # <--- required\n",
        "         'first_neuron' : [8, 16, 32, 64],  # <--- required\n",
        "         'dropout' : [0, 0.1, 0.2],         # <--- required\n",
        "         'shapes': ['brick'],               # <--- required\n",
        "         'activation': ['relu'],            # <--- required\n",
        "         'epoch_number' : [10, 20, 40, 80],\n",
        "         'optimizer' : ['Adam', 'rmsprop'],\n",
        "         'batch_size' : [1, 2, 4, 8]}"
      ],
      "execution_count": null,
      "outputs": []
    },
    {
      "cell_type": "code",
      "metadata": {
        "pycharm": {
          "name": "#%%\n"
        },
        "id": "B6e2QcL10ARv"
      },
      "source": [
        "from keras import models\n",
        "from keras import layers\n",
        "from talos.utils import hidden_layers\n",
        "\n",
        "def build_even_better_model(train_data, train_targets, val_data, val_targets, p):\n",
        "    model = models.Sequential()\n",
        "    \n",
        "    hidden_layers(model, p, 1) # <--- the required arguments are used here\n",
        "        \n",
        "    model.add(layers.Dense(1))\n",
        "    model.compile(optimizer='Adam', loss='mse', metrics=['mae'])\n",
        "    \n",
        "    # make sure history object is returned by model.fit()\n",
        "    history = model.fit(train_data, train_targets, epochs=p['epoch_number'], batch_size=p['batch_size'], verbose=0)\n",
        "    \n",
        "    return history, model\n"
      ],
      "execution_count": null,
      "outputs": []
    },
    {
      "cell_type": "markdown",
      "metadata": {
        "pycharm": {
          "name": "#%% md\n"
        },
        "id": "yGaDhi1A0ARy"
      },
      "source": [
        "## Bonus ## \n",
        "__Excercise 4:__\n",
        " - Use the feature 'hidden_layers' from Talos for a new hyperparameter search.\n",
        "\n"
      ]
    },
    {
      "cell_type": "markdown",
      "metadata": {
        "id": "NtPdLvrs0ARz"
      },
      "source": [
        "### 3. Guidelines on hyperparameter optimization <a name=\"three\"></a> \n",
        "\n",
        "* Hyperparameter optimization (at least as described in this tutorial with Talos) is an iterative process. You define the\n",
        "hyperparamter boundaries and start a search with <code>Scan()</code>. Using the results, you define new\n",
        "hyperparameter boundaries and a second search, ..., ..., final search. \n",
        "* In most situations, it is not necessary to perform a full grid search on all possible hyperparameter\n",
        "configurations (maybe in the order of thousands). Usually, it is sufficient to perform the scan on \n",
        "a random subset (10-30%).\n",
        "* It is important to determine those hyperparameter that have the largest influence on your performance\n",
        "metric. For this purpose, Talos provides routine such as <code>correlate()</code> assist you to find these hyperparameters.\n",
        "* All different hyperparameter combinations are evaluated on a validation set. As usual, only your final (after several iterations)\n",
        "model is evaluated with a test set that is independent of the validation set.\n",
        "* Even though Talos can be used analyze thousands of hyperparameter configurations, it is important to\n",
        "first get some kind of intuition/understanding which model architecture might be adequate (e.g. do you require \n",
        "fully connected neural networks?, convolutional neural networks?, what might be the rough number\n",
        "of hidden layers?). Otherwise, since the hyperparameter space grows exponentially you will not be able \n",
        "to evaluate a relevant subset of your high-dimensional hypercube within a reasonable amount of time\n",
        "(cf. Curse of Dimensionality).\n"
      ]
    },
    {
      "cell_type": "markdown",
      "metadata": {
        "id": "_Obs33au0AR0"
      },
      "source": [
        "Thank you for your participiation! <br>\n",
        "We hope that you have enjoyed this tutorial."
      ]
    }
  ]
}