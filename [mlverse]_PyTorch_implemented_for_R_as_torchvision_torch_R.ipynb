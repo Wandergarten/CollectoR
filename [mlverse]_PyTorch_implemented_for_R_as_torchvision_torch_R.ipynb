{
  "nbformat": 4,
  "nbformat_minor": 0,
  "metadata": {
    "colab": {
      "name": "[mlverse] PyTorch implemented for R as torchvision torch.R",
      "provenance": [],
      "include_colab_link": true
    },
    "kernelspec": {
      "name": "ir",
      "display_name": "R"
    },
    "accelerator": "GPU"
  },
  "cells": [
    {
      "cell_type": "markdown",
      "metadata": {
        "id": "view-in-github",
        "colab_type": "text"
      },
      "source": [
        "<a href=\"https://colab.research.google.com/github/Wandergarten/CollectoR/blob/main/%5Bmlverse%5D_PyTorch_implemented_for_R_as_torchvision_torch_R.ipynb\" target=\"_parent\"><img src=\"https://colab.research.google.com/assets/colab-badge.svg\" alt=\"Open In Colab\"/></a>"
      ]
    },
    {
      "cell_type": "markdown",
      "metadata": {
        "id": "PA795RWu-smz"
      },
      "source": [
        "## Installation"
      ]
    },
    {
      "cell_type": "markdown",
      "metadata": {
        "id": "c7EMliEWqUDR"
      },
      "source": [
        "### `torch`"
      ]
    },
    {
      "cell_type": "code",
      "metadata": {
        "id": "iMbnrh358cu-",
        "colab": {
          "base_uri": "https://localhost:8080/"
        },
        "outputId": "b06e9a91-d377-40db-a964-a3393502d7c1"
      },
      "source": [
        "devtools::install_github(\"mlverse/torch\")"
      ],
      "execution_count": null,
      "outputs": [
        {
          "output_type": "stream",
          "text": [
            "Downloading GitHub repo mlverse/torch@HEAD\n",
            "\n"
          ],
          "name": "stderr"
        },
        {
          "output_type": "stream",
          "text": [
            "bit   (NA    -> 4.0.4) [CRAN]\n",
            "cli   (2.2.0 -> 2.3.0) [CRAN]\n",
            "coro  (NA    -> 1.0.1) [CRAN]\n",
            "bit64 (NA    -> 4.0.5) [CRAN]\n",
            "withr (2.4.0 -> 2.4.1) [CRAN]\n"
          ],
          "name": "stdout"
        },
        {
          "output_type": "stream",
          "text": [
            "Installing 5 packages: bit, cli, coro, bit64, withr\n",
            "\n",
            "Installing packages into ‘/usr/local/lib/R/site-library’\n",
            "(as ‘lib’ is unspecified)\n",
            "\n"
          ],
          "name": "stderr"
        },
        {
          "output_type": "stream",
          "text": [
            "\u001b[32m✔\u001b[39m  \u001b[90mchecking for file ‘/tmp/RtmpsZbTeY/remotes3c6e12a33a/mlverse-torch-fcb07d4/DESCRIPTION’\u001b[39m\u001b[36m\u001b[39m\n",
            "\u001b[90m─\u001b[39m\u001b[90m  \u001b[39m\u001b[90mpreparing ‘torch’:\u001b[39m\u001b[36m\u001b[39m\n",
            "\u001b[32m✔\u001b[39m  \u001b[90mchecking DESCRIPTION meta-information\u001b[39m\u001b[36m\u001b[39m\n",
            "\u001b[90m─\u001b[39m\u001b[90m  \u001b[39m\u001b[90mcleaning src\u001b[39m\u001b[36m\u001b[39m\n",
            "\u001b[90m─\u001b[39m\u001b[90m  \u001b[39m\u001b[90mchecking for LF line-endings in source and make files and shell scripts\u001b[39m\u001b[36m\u001b[36m (502ms)\u001b[36m\u001b[39m\n",
            "\u001b[90m─\u001b[39m\u001b[90m  \u001b[39m\u001b[90mchecking for empty or unneeded directories\u001b[39m\u001b[36m\u001b[39m\n",
            "   Removed empty directory ‘torch/bench’\n",
            "   Removed empty directory ‘torch/docker’\n",
            "   Removed empty directory ‘torch/vignettes/examples’\n",
            "\u001b[90m─\u001b[39m\u001b[90m  \u001b[39m\u001b[90mbuilding ‘torch_0.2.1.9000.tar.gz’\u001b[39m\u001b[36m\u001b[39m\n",
            "   \n"
          ],
          "name": "stdout"
        },
        {
          "output_type": "stream",
          "text": [
            "Installing package into ‘/usr/local/lib/R/site-library’\n",
            "(as ‘lib’ is unspecified)\n",
            "\n"
          ],
          "name": "stderr"
        }
      ]
    },
    {
      "cell_type": "code",
      "metadata": {
        "id": "4mk0rrW-k9Dt"
      },
      "source": [
        "# a quick check if everything's ok\n",
        "library(torch)\n",
        "torch_tensor(1, device = \"cuda\")"
      ],
      "execution_count": null,
      "outputs": []
    },
    {
      "cell_type": "markdown",
      "metadata": {
        "id": "AIP-wDdDqYLS"
      },
      "source": [
        "### `torchvision`"
      ]
    },
    {
      "cell_type": "code",
      "metadata": {
        "id": "FYiGQkeR-lwg"
      },
      "source": [
        "# needed to compile magick (needed by torchvision)\n",
        "system(\"sudo apt-get install libmagick++-dev\")"
      ],
      "execution_count": null,
      "outputs": []
    },
    {
      "cell_type": "code",
      "metadata": {
        "id": "rGjoH6Kf9wZ3"
      },
      "source": [
        "devtools::install_github(\"mlverse/torchvision\")"
      ],
      "execution_count": null,
      "outputs": []
    },
    {
      "cell_type": "markdown",
      "metadata": {
        "id": "VvWmmZXiqhmR"
      },
      "source": [
        "## Data loading and pre-processing"
      ]
    },
    {
      "cell_type": "code",
      "metadata": {
        "id": "3aluEDAB8-Bt"
      },
      "source": [
        "library(torchvision)"
      ],
      "execution_count": null,
      "outputs": []
    },
    {
      "cell_type": "code",
      "metadata": {
        "id": "MwOkpLVG9Cj4"
      },
      "source": [
        "dir <- \".\"\n",
        "\n",
        "train_ds <- kmnist_dataset(\n",
        "  dir,\n",
        "  download = TRUE,\n",
        "  train = TRUE,\n",
        "  transform = transform_to_tensor\n",
        ")\n",
        "\n",
        "test_ds <- kmnist_dataset(\n",
        "  dir,\n",
        "  download = TRUE,\n",
        "  train = FALSE,\n",
        "  transform = transform_to_tensor\n",
        ")\n",
        "\n"
      ],
      "execution_count": null,
      "outputs": []
    },
    {
      "cell_type": "code",
      "metadata": {
        "id": "rt7MBIoQ8iRc"
      },
      "source": [
        "# the first pair (list) of input and target tensor\n",
        "train_ds[1]"
      ],
      "execution_count": null,
      "outputs": []
    },
    {
      "cell_type": "code",
      "metadata": {
        "id": "Xc6ou_y8p1wP"
      },
      "source": [
        "# shape of first input tensor\n",
        "train_ds[1][[1]]$size()"
      ],
      "execution_count": null,
      "outputs": []
    },
    {
      "cell_type": "code",
      "metadata": {
        "id": "58I7s7YHupkx"
      },
      "source": [
        "train_dl <- dataloader(train_ds, batch_size = 32, shuffle = TRUE)\n",
        "test_dl <- dataloader(test_ds, batch_size = 32)"
      ],
      "execution_count": null,
      "outputs": []
    },
    {
      "cell_type": "code",
      "metadata": {
        "id": "9VULKKwYvJBy"
      },
      "source": [
        "train_iter <- train_dl$.iter()\n",
        "train_iter$.next()"
      ],
      "execution_count": null,
      "outputs": []
    },
    {
      "cell_type": "markdown",
      "metadata": {
        "id": "iIJc1Xnywfqm"
      },
      "source": [
        "## Network"
      ]
    },
    {
      "cell_type": "code",
      "metadata": {
        "id": "6HTUJttM9RPz"
      },
      "source": [
        "net <- nn_module(\n",
        "  \"Net\",\n",
        "  initialize = function() {\n",
        "    self$conv1 <- nn_conv2d(1, 32, 3)\n",
        "    self$conv2 <- nn_conv2d(32, 64, 3)\n",
        "    self$dropout1 <- nn_dropout2d(0.25)\n",
        "    self$dropout2 <- nn_dropout2d(0.5)\n",
        "    self$fc1 <- nn_linear(9216, 128)\n",
        "    self$fc2 <- nn_linear(128, 10)\n",
        "  },\n",
        "  forward = function(x) {\n",
        "    x %>% \n",
        "      self$conv1() %>%\n",
        "      nnf_relu() %>%\n",
        "      self$conv2() %>%\n",
        "      nnf_relu() %>%\n",
        "      nnf_max_pool2d(2) %>%\n",
        "      self$dropout1() %>%\n",
        "      torch_flatten(start_dim = 2) %>%\n",
        "      self$fc1() %>%\n",
        "      nnf_relu() %>%\n",
        "      self$dropout2() %>%\n",
        "      self$fc2()\n",
        "  }\n",
        ")"
      ],
      "execution_count": null,
      "outputs": []
    },
    {
      "cell_type": "code",
      "metadata": {
        "id": "VrU3vmI39uQ9"
      },
      "source": [
        "model <- net()\n",
        "model$to(device = \"cuda\")"
      ],
      "execution_count": null,
      "outputs": []
    },
    {
      "cell_type": "code",
      "metadata": {
        "id": "6hf_vHma9J6f"
      },
      "source": [
        "optimizer <- optim_adam(model$parameters)"
      ],
      "execution_count": null,
      "outputs": []
    },
    {
      "cell_type": "code",
      "metadata": {
        "id": "0ccbigJj8szG"
      },
      "source": [
        "n_epochs <- 5\n",
        "\n",
        "for (epoch in 1:n_epochs) {\n",
        "\n",
        "  l <- c()\n",
        "\n",
        "  for (b in enumerate(train_dl)) {\n",
        "    optimizer$zero_grad()\n",
        "    output <- model(b[[1]]$to(device = \"cuda\"))\n",
        "    loss <- nnf_cross_entropy(output, b[[2]]$to(device = \"cuda\"))\n",
        "    loss$backward()\n",
        "    optimizer$step()\n",
        "    l <- c(l, loss$item())\n",
        "  }\n",
        "\n",
        "  cat(sprintf(\"Loss at epoch %d: %3f\\n\", epoch, mean(l)))\n",
        "}"
      ],
      "execution_count": null,
      "outputs": []
    },
    {
      "cell_type": "markdown",
      "metadata": {
        "id": "PqHYqwAp9zLy"
      },
      "source": [
        "## Evaluate"
      ]
    },
    {
      "cell_type": "code",
      "metadata": {
        "id": "zHJOy31E-Q2p"
      },
      "source": [
        "model$eval()"
      ],
      "execution_count": null,
      "outputs": []
    },
    {
      "cell_type": "code",
      "metadata": {
        "id": "XnrL7C4R-R41"
      },
      "source": [
        "test_losses <- c()\n",
        "total <- 0\n",
        "correct <- 0\n",
        "\n",
        "for (b in enumerate(test_dl)) {\n",
        "  output <- model(b[[1]]$to(device = \"cuda\"))\n",
        "  labels <- b[[2]]$to(device = \"cuda\")\n",
        "  loss <- nnf_cross_entropy(output, labels)\n",
        "  test_losses <- c(test_losses, loss$item())\n",
        "  predicted <- torch_max(output$data(), dim = 2)[[2]]\n",
        "  total <- total + labels$size(1)\n",
        "  correct <- correct + (predicted == labels)$sum()$item()\n",
        "}\n"
      ],
      "execution_count": null,
      "outputs": []
    },
    {
      "cell_type": "code",
      "metadata": {
        "id": "UvbYKfk7CDur"
      },
      "source": [
        "mean(test_losses)"
      ],
      "execution_count": null,
      "outputs": []
    },
    {
      "cell_type": "code",
      "metadata": {
        "id": "TWd9c6Uy-sP-"
      },
      "source": [
        "test_accuracy <-  correct/total\n",
        "test_accuracy"
      ],
      "execution_count": null,
      "outputs": []
    }
  ]
}